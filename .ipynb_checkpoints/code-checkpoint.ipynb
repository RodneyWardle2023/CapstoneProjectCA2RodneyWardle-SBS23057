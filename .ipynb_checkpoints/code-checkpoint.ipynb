{
 "cells": [
  {
   "cell_type": "code",
   "execution_count": 1,
   "id": "66492f1c-48ae-492c-a048-46a0725586a5",
   "metadata": {},
   "outputs": [],
   "source": [
    "#import required libraries\n",
    "import pandas as pd\n",
    "import seaborn as sns\n",
    "import numpy as np\n",
    "import matplotlib.pyplot as plt #visualisation \n",
    "from sklearn.cluster import KMeans\n",
    "from sklearn.preprocessing import StandardScaler\n",
    "from sklearn.decomposition import PCA"
   ]
  },
  {
   "cell_type": "code",
   "execution_count": 2,
   "id": "529a5547-0fd2-411c-89e6-ae0d3defeef2",
   "metadata": {},
   "outputs": [],
   "source": [
    "# To ignore warnings\n",
    "import warnings\n",
    "warnings.filterwarnings(\"ignore\")"
   ]
  },
  {
   "cell_type": "code",
   "execution_count": 3,
   "id": "aa611798-4563-49d4-b308-d1d305fcc679",
   "metadata": {},
   "outputs": [],
   "source": [
    "df = pd.read_csv('data.csv')"
   ]
  },
  {
   "cell_type": "code",
   "execution_count": 4,
   "id": "16a6f0a9-886d-49c9-924f-8cf3cfa7b7c5",
   "metadata": {},
   "outputs": [
    {
     "data": {
      "text/html": [
       "<div>\n",
       "<style scoped>\n",
       "    .dataframe tbody tr th:only-of-type {\n",
       "        vertical-align: middle;\n",
       "    }\n",
       "\n",
       "    .dataframe tbody tr th {\n",
       "        vertical-align: top;\n",
       "    }\n",
       "\n",
       "    .dataframe thead th {\n",
       "        text-align: right;\n",
       "    }\n",
       "</style>\n",
       "<table border=\"1\" class=\"dataframe\">\n",
       "  <thead>\n",
       "    <tr style=\"text-align: right;\">\n",
       "      <th></th>\n",
       "      <th>Year</th>\n",
       "      <th>Country of origin</th>\n",
       "      <th>Country of asylum</th>\n",
       "      <th>Authority</th>\n",
       "      <th>Application type</th>\n",
       "      <th>Stage of procedure</th>\n",
       "      <th>Cases / Persons</th>\n",
       "      <th>applied</th>\n",
       "    </tr>\n",
       "  </thead>\n",
       "  <tbody>\n",
       "    <tr>\n",
       "      <th>0</th>\n",
       "      <td>2018</td>\n",
       "      <td>Afghanistan</td>\n",
       "      <td>United Kingdom of Great Britain and Northern I...</td>\n",
       "      <td>G</td>\n",
       "      <td>A</td>\n",
       "      <td>AR</td>\n",
       "      <td>C</td>\n",
       "      <td>726</td>\n",
       "    </tr>\n",
       "    <tr>\n",
       "      <th>1</th>\n",
       "      <td>2018</td>\n",
       "      <td>Albania</td>\n",
       "      <td>United Kingdom of Great Britain and Northern I...</td>\n",
       "      <td>G</td>\n",
       "      <td>A</td>\n",
       "      <td>AR</td>\n",
       "      <td>C</td>\n",
       "      <td>486</td>\n",
       "    </tr>\n",
       "    <tr>\n",
       "      <th>2</th>\n",
       "      <td>2018</td>\n",
       "      <td>Algeria</td>\n",
       "      <td>United Kingdom of Great Britain and Northern I...</td>\n",
       "      <td>G</td>\n",
       "      <td>A</td>\n",
       "      <td>AR</td>\n",
       "      <td>C</td>\n",
       "      <td>79</td>\n",
       "    </tr>\n",
       "    <tr>\n",
       "      <th>3</th>\n",
       "      <td>2018</td>\n",
       "      <td>Angola</td>\n",
       "      <td>United Kingdom of Great Britain and Northern I...</td>\n",
       "      <td>G</td>\n",
       "      <td>A</td>\n",
       "      <td>AR</td>\n",
       "      <td>C</td>\n",
       "      <td>30</td>\n",
       "    </tr>\n",
       "    <tr>\n",
       "      <th>4</th>\n",
       "      <td>2018</td>\n",
       "      <td>Antigua and Barbuda</td>\n",
       "      <td>United Kingdom of Great Britain and Northern I...</td>\n",
       "      <td>G</td>\n",
       "      <td>A</td>\n",
       "      <td>AR</td>\n",
       "      <td>C</td>\n",
       "      <td>5</td>\n",
       "    </tr>\n",
       "  </tbody>\n",
       "</table>\n",
       "</div>"
      ],
      "text/plain": [
       "   Year    Country of origin  \\\n",
       "0  2018          Afghanistan   \n",
       "1  2018              Albania   \n",
       "2  2018              Algeria   \n",
       "3  2018               Angola   \n",
       "4  2018  Antigua and Barbuda   \n",
       "\n",
       "                                   Country of asylum Authority  \\\n",
       "0  United Kingdom of Great Britain and Northern I...         G   \n",
       "1  United Kingdom of Great Britain and Northern I...         G   \n",
       "2  United Kingdom of Great Britain and Northern I...         G   \n",
       "3  United Kingdom of Great Britain and Northern I...         G   \n",
       "4  United Kingdom of Great Britain and Northern I...         G   \n",
       "\n",
       "  Application type Stage of procedure Cases / Persons  applied  \n",
       "0                A                 AR               C      726  \n",
       "1                A                 AR               C      486  \n",
       "2                A                 AR               C       79  \n",
       "3                A                 AR               C       30  \n",
       "4                A                 AR               C        5  "
      ]
     },
     "execution_count": 4,
     "metadata": {},
     "output_type": "execute_result"
    }
   ],
   "source": [
    "df.head()"
   ]
  },
  {
   "cell_type": "code",
   "execution_count": 5,
   "id": "ff226a06-f24c-4a7a-b530-f28eac884cdc",
   "metadata": {},
   "outputs": [
    {
     "data": {
      "text/html": [
       "<div>\n",
       "<style scoped>\n",
       "    .dataframe tbody tr th:only-of-type {\n",
       "        vertical-align: middle;\n",
       "    }\n",
       "\n",
       "    .dataframe tbody tr th {\n",
       "        vertical-align: top;\n",
       "    }\n",
       "\n",
       "    .dataframe thead th {\n",
       "        text-align: right;\n",
       "    }\n",
       "</style>\n",
       "<table border=\"1\" class=\"dataframe\">\n",
       "  <thead>\n",
       "    <tr style=\"text-align: right;\">\n",
       "      <th></th>\n",
       "      <th>Year</th>\n",
       "      <th>Country of origin</th>\n",
       "      <th>Country of asylum</th>\n",
       "      <th>Authority</th>\n",
       "      <th>Application type</th>\n",
       "      <th>Stage of procedure</th>\n",
       "      <th>Cases / Persons</th>\n",
       "      <th>applied</th>\n",
       "    </tr>\n",
       "  </thead>\n",
       "  <tbody>\n",
       "    <tr>\n",
       "      <th>38836</th>\n",
       "      <td>2023</td>\n",
       "      <td>Viet Nam</td>\n",
       "      <td>Thailand</td>\n",
       "      <td>U</td>\n",
       "      <td>R</td>\n",
       "      <td>RA</td>\n",
       "      <td>P</td>\n",
       "      <td>25</td>\n",
       "    </tr>\n",
       "    <tr>\n",
       "      <th>38837</th>\n",
       "      <td>2024</td>\n",
       "      <td>Sudan</td>\n",
       "      <td>Egypt</td>\n",
       "      <td>U</td>\n",
       "      <td>R</td>\n",
       "      <td>RA</td>\n",
       "      <td>P</td>\n",
       "      <td>2271</td>\n",
       "    </tr>\n",
       "    <tr>\n",
       "      <th>38838</th>\n",
       "      <td>2024</td>\n",
       "      <td>South Sudan</td>\n",
       "      <td>Egypt</td>\n",
       "      <td>U</td>\n",
       "      <td>R</td>\n",
       "      <td>RA</td>\n",
       "      <td>P</td>\n",
       "      <td>8</td>\n",
       "    </tr>\n",
       "    <tr>\n",
       "      <th>38839</th>\n",
       "      <td>2024</td>\n",
       "      <td>Central African Rep.</td>\n",
       "      <td>Cameroon</td>\n",
       "      <td>U</td>\n",
       "      <td>R</td>\n",
       "      <td>RA</td>\n",
       "      <td>P</td>\n",
       "      <td>5</td>\n",
       "    </tr>\n",
       "    <tr>\n",
       "      <th>38840</th>\n",
       "      <td>2024</td>\n",
       "      <td>Sudan</td>\n",
       "      <td>Jordan</td>\n",
       "      <td>U</td>\n",
       "      <td>R</td>\n",
       "      <td>RA</td>\n",
       "      <td>P</td>\n",
       "      <td>5</td>\n",
       "    </tr>\n",
       "  </tbody>\n",
       "</table>\n",
       "</div>"
      ],
      "text/plain": [
       "       Year     Country of origin Country of asylum Authority  \\\n",
       "38836  2023              Viet Nam          Thailand         U   \n",
       "38837  2024                 Sudan             Egypt         U   \n",
       "38838  2024           South Sudan             Egypt         U   \n",
       "38839  2024  Central African Rep.          Cameroon         U   \n",
       "38840  2024                 Sudan            Jordan         U   \n",
       "\n",
       "      Application type Stage of procedure Cases / Persons  applied  \n",
       "38836                R                 RA               P       25  \n",
       "38837                R                 RA               P     2271  \n",
       "38838                R                 RA               P        8  \n",
       "38839                R                 RA               P        5  \n",
       "38840                R                 RA               P        5  "
      ]
     },
     "execution_count": 5,
     "metadata": {},
     "output_type": "execute_result"
    }
   ],
   "source": [
    "df.tail()"
   ]
  },
  {
   "cell_type": "code",
   "execution_count": 6,
   "id": "0c68cdc5-adf6-45cf-9385-ec6d1ccaa979",
   "metadata": {},
   "outputs": [
    {
     "data": {
      "text/plain": [
       "(38841, 8)"
      ]
     },
     "execution_count": 6,
     "metadata": {},
     "output_type": "execute_result"
    }
   ],
   "source": [
    "df.shape"
   ]
  },
  {
   "cell_type": "code",
   "execution_count": 7,
   "id": "fb421b4e-c49b-4911-8b9c-8076c822e609",
   "metadata": {},
   "outputs": [
    {
     "name": "stdout",
     "output_type": "stream",
     "text": [
      "<class 'pandas.core.frame.DataFrame'>\n",
      "RangeIndex: 38841 entries, 0 to 38840\n",
      "Data columns (total 8 columns):\n",
      " #   Column              Non-Null Count  Dtype \n",
      "---  ------              --------------  ----- \n",
      " 0   Year                38841 non-null  int64 \n",
      " 1   Country of origin   38841 non-null  object\n",
      " 2   Country of asylum   38841 non-null  object\n",
      " 3   Authority           38841 non-null  object\n",
      " 4   Application type    38841 non-null  object\n",
      " 5   Stage of procedure  38485 non-null  object\n",
      " 6   Cases / Persons     38841 non-null  object\n",
      " 7   applied             38841 non-null  int64 \n",
      "dtypes: int64(2), object(6)\n",
      "memory usage: 2.4+ MB\n"
     ]
    }
   ],
   "source": [
    "df.info()"
   ]
  },
  {
   "cell_type": "code",
   "execution_count": 8,
   "id": "8accf48e-fc82-45d4-aa88-a0407f8b40f2",
   "metadata": {},
   "outputs": [
    {
     "data": {
      "text/html": [
       "<div>\n",
       "<style scoped>\n",
       "    .dataframe tbody tr th:only-of-type {\n",
       "        vertical-align: middle;\n",
       "    }\n",
       "\n",
       "    .dataframe tbody tr th {\n",
       "        vertical-align: top;\n",
       "    }\n",
       "\n",
       "    .dataframe thead th {\n",
       "        text-align: right;\n",
       "    }\n",
       "</style>\n",
       "<table border=\"1\" class=\"dataframe\">\n",
       "  <thead>\n",
       "    <tr style=\"text-align: right;\">\n",
       "      <th></th>\n",
       "      <th>Year</th>\n",
       "      <th>applied</th>\n",
       "    </tr>\n",
       "  </thead>\n",
       "  <tbody>\n",
       "    <tr>\n",
       "      <th>count</th>\n",
       "      <td>38841.000000</td>\n",
       "      <td>38841.000000</td>\n",
       "    </tr>\n",
       "    <tr>\n",
       "      <th>mean</th>\n",
       "      <td>2020.983497</td>\n",
       "      <td>416.512036</td>\n",
       "    </tr>\n",
       "    <tr>\n",
       "      <th>std</th>\n",
       "      <td>1.992884</td>\n",
       "      <td>3391.981853</td>\n",
       "    </tr>\n",
       "    <tr>\n",
       "      <th>min</th>\n",
       "      <td>2018.000000</td>\n",
       "      <td>5.000000</td>\n",
       "    </tr>\n",
       "    <tr>\n",
       "      <th>25%</th>\n",
       "      <td>2019.000000</td>\n",
       "      <td>6.000000</td>\n",
       "    </tr>\n",
       "    <tr>\n",
       "      <th>50%</th>\n",
       "      <td>2021.000000</td>\n",
       "      <td>19.000000</td>\n",
       "    </tr>\n",
       "    <tr>\n",
       "      <th>75%</th>\n",
       "      <td>2023.000000</td>\n",
       "      <td>93.000000</td>\n",
       "    </tr>\n",
       "    <tr>\n",
       "      <th>max</th>\n",
       "      <td>2024.000000</td>\n",
       "      <td>258636.000000</td>\n",
       "    </tr>\n",
       "  </tbody>\n",
       "</table>\n",
       "</div>"
      ],
      "text/plain": [
       "               Year        applied\n",
       "count  38841.000000   38841.000000\n",
       "mean    2020.983497     416.512036\n",
       "std        1.992884    3391.981853\n",
       "min     2018.000000       5.000000\n",
       "25%     2019.000000       6.000000\n",
       "50%     2021.000000      19.000000\n",
       "75%     2023.000000      93.000000\n",
       "max     2024.000000  258636.000000"
      ]
     },
     "execution_count": 8,
     "metadata": {},
     "output_type": "execute_result"
    }
   ],
   "source": [
    "df.describe()"
   ]
  },
  {
   "cell_type": "code",
   "execution_count": 9,
   "id": "cbeac845-c50a-4e28-9b04-a6f5143441b0",
   "metadata": {},
   "outputs": [
    {
     "name": "stdout",
     "output_type": "stream",
     "text": [
      "<class 'pandas.core.frame.DataFrame'>\n",
      "RangeIndex: 38841 entries, 0 to 38840\n",
      "Data columns (total 8 columns):\n",
      " #   Column              Non-Null Count  Dtype \n",
      "---  ------              --------------  ----- \n",
      " 0   Year                38841 non-null  int64 \n",
      " 1   Country of origin   38841 non-null  object\n",
      " 2   Country of asylum   38841 non-null  object\n",
      " 3   Authority           38841 non-null  object\n",
      " 4   Application type    38841 non-null  object\n",
      " 5   Stage of procedure  38485 non-null  object\n",
      " 6   Cases / Persons     38841 non-null  object\n",
      " 7   applied             38841 non-null  int64 \n",
      "dtypes: int64(2), object(6)\n",
      "memory usage: 2.4+ MB\n"
     ]
    }
   ],
   "source": [
    "df.info()"
   ]
  },
  {
   "cell_type": "code",
   "execution_count": 10,
   "id": "05de5a82-4bba-4c9d-ae8f-0db453706388",
   "metadata": {},
   "outputs": [
    {
     "name": "stdout",
     "output_type": "stream",
     "text": [
      "number of duplicate rows:  (0, 8)\n"
     ]
    }
   ],
   "source": [
    "duplicate_rows_df = df[df.duplicated()]\n",
    "print(\"number of duplicate rows: \", duplicate_rows_df.shape)"
   ]
  },
  {
   "cell_type": "code",
   "execution_count": 11,
   "id": "b09129bf-38e7-46a7-abdd-e7a84f556fde",
   "metadata": {},
   "outputs": [
    {
     "data": {
      "text/html": [
       "<div>\n",
       "<style scoped>\n",
       "    .dataframe tbody tr th:only-of-type {\n",
       "        vertical-align: middle;\n",
       "    }\n",
       "\n",
       "    .dataframe tbody tr th {\n",
       "        vertical-align: top;\n",
       "    }\n",
       "\n",
       "    .dataframe thead th {\n",
       "        text-align: right;\n",
       "    }\n",
       "</style>\n",
       "<table border=\"1\" class=\"dataframe\">\n",
       "  <thead>\n",
       "    <tr style=\"text-align: right;\">\n",
       "      <th></th>\n",
       "      <th>Year</th>\n",
       "      <th>Country of origin</th>\n",
       "      <th>Country of asylum</th>\n",
       "      <th>Authority</th>\n",
       "      <th>Application type</th>\n",
       "      <th>Stage of procedure</th>\n",
       "      <th>Cases / Persons</th>\n",
       "      <th>applied</th>\n",
       "    </tr>\n",
       "  </thead>\n",
       "  <tbody>\n",
       "    <tr>\n",
       "      <th>0</th>\n",
       "      <td>2018</td>\n",
       "      <td>Afghanistan</td>\n",
       "      <td>United Kingdom of Great Britain and Northern I...</td>\n",
       "      <td>G</td>\n",
       "      <td>A</td>\n",
       "      <td>AR</td>\n",
       "      <td>C</td>\n",
       "      <td>726</td>\n",
       "    </tr>\n",
       "    <tr>\n",
       "      <th>1</th>\n",
       "      <td>2018</td>\n",
       "      <td>Albania</td>\n",
       "      <td>United Kingdom of Great Britain and Northern I...</td>\n",
       "      <td>G</td>\n",
       "      <td>A</td>\n",
       "      <td>AR</td>\n",
       "      <td>C</td>\n",
       "      <td>486</td>\n",
       "    </tr>\n",
       "    <tr>\n",
       "      <th>2</th>\n",
       "      <td>2018</td>\n",
       "      <td>Algeria</td>\n",
       "      <td>United Kingdom of Great Britain and Northern I...</td>\n",
       "      <td>G</td>\n",
       "      <td>A</td>\n",
       "      <td>AR</td>\n",
       "      <td>C</td>\n",
       "      <td>79</td>\n",
       "    </tr>\n",
       "    <tr>\n",
       "      <th>3</th>\n",
       "      <td>2018</td>\n",
       "      <td>Angola</td>\n",
       "      <td>United Kingdom of Great Britain and Northern I...</td>\n",
       "      <td>G</td>\n",
       "      <td>A</td>\n",
       "      <td>AR</td>\n",
       "      <td>C</td>\n",
       "      <td>30</td>\n",
       "    </tr>\n",
       "    <tr>\n",
       "      <th>4</th>\n",
       "      <td>2018</td>\n",
       "      <td>Antigua and Barbuda</td>\n",
       "      <td>United Kingdom of Great Britain and Northern I...</td>\n",
       "      <td>G</td>\n",
       "      <td>A</td>\n",
       "      <td>AR</td>\n",
       "      <td>C</td>\n",
       "      <td>5</td>\n",
       "    </tr>\n",
       "    <tr>\n",
       "      <th>5</th>\n",
       "      <td>2018</td>\n",
       "      <td>Egypt</td>\n",
       "      <td>United Kingdom of Great Britain and Northern I...</td>\n",
       "      <td>G</td>\n",
       "      <td>A</td>\n",
       "      <td>AR</td>\n",
       "      <td>C</td>\n",
       "      <td>209</td>\n",
       "    </tr>\n",
       "    <tr>\n",
       "      <th>6</th>\n",
       "      <td>2018</td>\n",
       "      <td>Armenia</td>\n",
       "      <td>United Kingdom of Great Britain and Northern I...</td>\n",
       "      <td>G</td>\n",
       "      <td>A</td>\n",
       "      <td>AR</td>\n",
       "      <td>C</td>\n",
       "      <td>19</td>\n",
       "    </tr>\n",
       "    <tr>\n",
       "      <th>7</th>\n",
       "      <td>2018</td>\n",
       "      <td>Azerbaijan</td>\n",
       "      <td>United Kingdom of Great Britain and Northern I...</td>\n",
       "      <td>G</td>\n",
       "      <td>A</td>\n",
       "      <td>AR</td>\n",
       "      <td>C</td>\n",
       "      <td>25</td>\n",
       "    </tr>\n",
       "    <tr>\n",
       "      <th>8</th>\n",
       "      <td>2018</td>\n",
       "      <td>Bahrain</td>\n",
       "      <td>United Kingdom of Great Britain and Northern I...</td>\n",
       "      <td>G</td>\n",
       "      <td>A</td>\n",
       "      <td>AR</td>\n",
       "      <td>C</td>\n",
       "      <td>7</td>\n",
       "    </tr>\n",
       "    <tr>\n",
       "      <th>9</th>\n",
       "      <td>2018</td>\n",
       "      <td>Barbados</td>\n",
       "      <td>United Kingdom of Great Britain and Northern I...</td>\n",
       "      <td>G</td>\n",
       "      <td>A</td>\n",
       "      <td>AR</td>\n",
       "      <td>C</td>\n",
       "      <td>6</td>\n",
       "    </tr>\n",
       "  </tbody>\n",
       "</table>\n",
       "</div>"
      ],
      "text/plain": [
       "   Year    Country of origin  \\\n",
       "0  2018          Afghanistan   \n",
       "1  2018              Albania   \n",
       "2  2018              Algeria   \n",
       "3  2018               Angola   \n",
       "4  2018  Antigua and Barbuda   \n",
       "5  2018                Egypt   \n",
       "6  2018              Armenia   \n",
       "7  2018           Azerbaijan   \n",
       "8  2018              Bahrain   \n",
       "9  2018             Barbados   \n",
       "\n",
       "                                   Country of asylum Authority  \\\n",
       "0  United Kingdom of Great Britain and Northern I...         G   \n",
       "1  United Kingdom of Great Britain and Northern I...         G   \n",
       "2  United Kingdom of Great Britain and Northern I...         G   \n",
       "3  United Kingdom of Great Britain and Northern I...         G   \n",
       "4  United Kingdom of Great Britain and Northern I...         G   \n",
       "5  United Kingdom of Great Britain and Northern I...         G   \n",
       "6  United Kingdom of Great Britain and Northern I...         G   \n",
       "7  United Kingdom of Great Britain and Northern I...         G   \n",
       "8  United Kingdom of Great Britain and Northern I...         G   \n",
       "9  United Kingdom of Great Britain and Northern I...         G   \n",
       "\n",
       "  Application type Stage of procedure Cases / Persons  applied  \n",
       "0                A                 AR               C      726  \n",
       "1                A                 AR               C      486  \n",
       "2                A                 AR               C       79  \n",
       "3                A                 AR               C       30  \n",
       "4                A                 AR               C        5  \n",
       "5                A                 AR               C      209  \n",
       "6                A                 AR               C       19  \n",
       "7                A                 AR               C       25  \n",
       "8                A                 AR               C        7  \n",
       "9                A                 AR               C        6  "
      ]
     },
     "execution_count": 11,
     "metadata": {},
     "output_type": "execute_result"
    }
   ],
   "source": [
    "df = df.drop_duplicates()\n",
    "df.head(10)"
   ]
  },
  {
   "cell_type": "code",
   "execution_count": 12,
   "id": "98ed1eed-6720-4c2e-83a2-9393d3a87217",
   "metadata": {},
   "outputs": [
    {
     "data": {
      "text/html": [
       "<div>\n",
       "<style scoped>\n",
       "    .dataframe tbody tr th:only-of-type {\n",
       "        vertical-align: middle;\n",
       "    }\n",
       "\n",
       "    .dataframe tbody tr th {\n",
       "        vertical-align: top;\n",
       "    }\n",
       "\n",
       "    .dataframe thead th {\n",
       "        text-align: right;\n",
       "    }\n",
       "</style>\n",
       "<table border=\"1\" class=\"dataframe\">\n",
       "  <thead>\n",
       "    <tr style=\"text-align: right;\">\n",
       "      <th></th>\n",
       "      <th>Year</th>\n",
       "      <th>Country of origin</th>\n",
       "      <th>Country of asylum</th>\n",
       "      <th>Authority</th>\n",
       "      <th>Application type</th>\n",
       "      <th>Stage of procedure</th>\n",
       "      <th>Cases / Persons</th>\n",
       "      <th>applied</th>\n",
       "    </tr>\n",
       "  </thead>\n",
       "  <tbody>\n",
       "    <tr>\n",
       "      <th>38836</th>\n",
       "      <td>2023</td>\n",
       "      <td>Viet Nam</td>\n",
       "      <td>Thailand</td>\n",
       "      <td>U</td>\n",
       "      <td>R</td>\n",
       "      <td>RA</td>\n",
       "      <td>P</td>\n",
       "      <td>25</td>\n",
       "    </tr>\n",
       "    <tr>\n",
       "      <th>38837</th>\n",
       "      <td>2024</td>\n",
       "      <td>Sudan</td>\n",
       "      <td>Egypt</td>\n",
       "      <td>U</td>\n",
       "      <td>R</td>\n",
       "      <td>RA</td>\n",
       "      <td>P</td>\n",
       "      <td>2271</td>\n",
       "    </tr>\n",
       "    <tr>\n",
       "      <th>38838</th>\n",
       "      <td>2024</td>\n",
       "      <td>South Sudan</td>\n",
       "      <td>Egypt</td>\n",
       "      <td>U</td>\n",
       "      <td>R</td>\n",
       "      <td>RA</td>\n",
       "      <td>P</td>\n",
       "      <td>8</td>\n",
       "    </tr>\n",
       "    <tr>\n",
       "      <th>38839</th>\n",
       "      <td>2024</td>\n",
       "      <td>Central African Rep.</td>\n",
       "      <td>Cameroon</td>\n",
       "      <td>U</td>\n",
       "      <td>R</td>\n",
       "      <td>RA</td>\n",
       "      <td>P</td>\n",
       "      <td>5</td>\n",
       "    </tr>\n",
       "    <tr>\n",
       "      <th>38840</th>\n",
       "      <td>2024</td>\n",
       "      <td>Sudan</td>\n",
       "      <td>Jordan</td>\n",
       "      <td>U</td>\n",
       "      <td>R</td>\n",
       "      <td>RA</td>\n",
       "      <td>P</td>\n",
       "      <td>5</td>\n",
       "    </tr>\n",
       "  </tbody>\n",
       "</table>\n",
       "</div>"
      ],
      "text/plain": [
       "       Year     Country of origin Country of asylum Authority  \\\n",
       "38836  2023              Viet Nam          Thailand         U   \n",
       "38837  2024                 Sudan             Egypt         U   \n",
       "38838  2024           South Sudan             Egypt         U   \n",
       "38839  2024  Central African Rep.          Cameroon         U   \n",
       "38840  2024                 Sudan            Jordan         U   \n",
       "\n",
       "      Application type Stage of procedure Cases / Persons  applied  \n",
       "38836                R                 RA               P       25  \n",
       "38837                R                 RA               P     2271  \n",
       "38838                R                 RA               P        8  \n",
       "38839                R                 RA               P        5  \n",
       "38840                R                 RA               P        5  "
      ]
     },
     "execution_count": 12,
     "metadata": {},
     "output_type": "execute_result"
    }
   ],
   "source": [
    "df.tail()"
   ]
  },
  {
   "cell_type": "code",
   "execution_count": 13,
   "id": "598efa19-fc19-4bb5-a3ab-3f2338a09419",
   "metadata": {},
   "outputs": [
    {
     "name": "stdout",
     "output_type": "stream",
     "text": [
      "<class 'pandas.core.frame.DataFrame'>\n",
      "RangeIndex: 38841 entries, 0 to 38840\n",
      "Data columns (total 8 columns):\n",
      " #   Column              Non-Null Count  Dtype \n",
      "---  ------              --------------  ----- \n",
      " 0   Year                38841 non-null  int64 \n",
      " 1   Country of origin   38841 non-null  object\n",
      " 2   Country of asylum   38841 non-null  object\n",
      " 3   Authority           38841 non-null  object\n",
      " 4   Application type    38841 non-null  object\n",
      " 5   Stage of procedure  38485 non-null  object\n",
      " 6   Cases / Persons     38841 non-null  object\n",
      " 7   applied             38841 non-null  int64 \n",
      "dtypes: int64(2), object(6)\n",
      "memory usage: 2.4+ MB\n"
     ]
    }
   ],
   "source": [
    "df.info()"
   ]
  },
  {
   "cell_type": "markdown",
   "id": "62807b1f-12d1-4d6e-9b25-43f7a265145c",
   "metadata": {},
   "source": [
    "# Dealing with missing data in dataset"
   ]
  },
  {
   "cell_type": "code",
   "execution_count": 14,
   "id": "e8bbf054-83b8-44e7-9033-c28185129198",
   "metadata": {},
   "outputs": [
    {
     "data": {
      "text/plain": [
       "Year                    0\n",
       "Country of origin       0\n",
       "Country of asylum       0\n",
       "Authority               0\n",
       "Application type        0\n",
       "Stage of procedure    356\n",
       "Cases / Persons         0\n",
       "applied                 0\n",
       "dtype: int64"
      ]
     },
     "execution_count": 14,
     "metadata": {},
     "output_type": "execute_result"
    }
   ],
   "source": [
    "df.isnull().sum()"
   ]
  },
  {
   "cell_type": "code",
   "execution_count": 15,
   "id": "97e5f1f8-9ea4-4e76-8892-0cd2adfd0f1f",
   "metadata": {},
   "outputs": [
    {
     "ename": "FileNotFoundError",
     "evalue": "[Errno 2] No such file or directory: 'asylum-applications.csv'",
     "output_type": "error",
     "traceback": [
      "\u001b[1;31m---------------------------------------------------------------------------\u001b[0m",
      "\u001b[1;31mFileNotFoundError\u001b[0m                         Traceback (most recent call last)",
      "Cell \u001b[1;32mIn[15], line 3\u001b[0m\n\u001b[0;32m      1\u001b[0m \u001b[38;5;66;03m# a list with all missing value formats\u001b[39;00m\n\u001b[0;32m      2\u001b[0m missing_value_formats \u001b[38;5;241m=\u001b[39m [\u001b[38;5;124m\"\u001b[39m\u001b[38;5;124mn.a.\u001b[39m\u001b[38;5;124m\"\u001b[39m,\u001b[38;5;124m\"\u001b[39m\u001b[38;5;124m?\u001b[39m\u001b[38;5;124m\"\u001b[39m,\u001b[38;5;124m\"\u001b[39m\u001b[38;5;124mNA\u001b[39m\u001b[38;5;124m\"\u001b[39m,\u001b[38;5;124m\"\u001b[39m\u001b[38;5;124mn/a\u001b[39m\u001b[38;5;124m\"\u001b[39m,\u001b[38;5;124m\"\u001b[39m\u001b[38;5;124mna\u001b[39m\u001b[38;5;124m\"\u001b[39m,\u001b[38;5;124m\"\u001b[39m\u001b[38;5;124m \u001b[39m\u001b[38;5;124m\"\u001b[39m,\u001b[38;5;124m\"\u001b[39m\u001b[38;5;124m--\u001b[39m\u001b[38;5;124m\"\u001b[39m,\u001b[38;5;124m\"\u001b[39m\u001b[38;5;124mnan\u001b[39m\u001b[38;5;124m\"\u001b[39m,\u001b[38;5;124m\"\u001b[39m\u001b[38;5;124mUnKnown\u001b[39m\u001b[38;5;124m\"\u001b[39m,\u001b[38;5;124m\"\u001b[39m\u001b[38;5;124mNa\u001b[39m\u001b[38;5;124m\"\u001b[39m,\u001b[38;5;124m\"\u001b[39m\u001b[38;5;124munknown\u001b[39m\u001b[38;5;124m\"\u001b[39m]\n\u001b[1;32m----> 3\u001b[0m df\u001b[38;5;241m=\u001b[39m pd\u001b[38;5;241m.\u001b[39mread_csv(\u001b[38;5;124m\"\u001b[39m\u001b[38;5;124masylum-applications.csv\u001b[39m\u001b[38;5;124m\"\u001b[39m, na_values \u001b[38;5;241m=\u001b[39m missing_value_formats)\n",
      "File \u001b[1;32m~\\Anaconda\\Lib\\site-packages\\pandas\\io\\parsers\\readers.py:948\u001b[0m, in \u001b[0;36mread_csv\u001b[1;34m(filepath_or_buffer, sep, delimiter, header, names, index_col, usecols, dtype, engine, converters, true_values, false_values, skipinitialspace, skiprows, skipfooter, nrows, na_values, keep_default_na, na_filter, verbose, skip_blank_lines, parse_dates, infer_datetime_format, keep_date_col, date_parser, date_format, dayfirst, cache_dates, iterator, chunksize, compression, thousands, decimal, lineterminator, quotechar, quoting, doublequote, escapechar, comment, encoding, encoding_errors, dialect, on_bad_lines, delim_whitespace, low_memory, memory_map, float_precision, storage_options, dtype_backend)\u001b[0m\n\u001b[0;32m    935\u001b[0m kwds_defaults \u001b[38;5;241m=\u001b[39m _refine_defaults_read(\n\u001b[0;32m    936\u001b[0m     dialect,\n\u001b[0;32m    937\u001b[0m     delimiter,\n\u001b[1;32m   (...)\u001b[0m\n\u001b[0;32m    944\u001b[0m     dtype_backend\u001b[38;5;241m=\u001b[39mdtype_backend,\n\u001b[0;32m    945\u001b[0m )\n\u001b[0;32m    946\u001b[0m kwds\u001b[38;5;241m.\u001b[39mupdate(kwds_defaults)\n\u001b[1;32m--> 948\u001b[0m \u001b[38;5;28;01mreturn\u001b[39;00m _read(filepath_or_buffer, kwds)\n",
      "File \u001b[1;32m~\\Anaconda\\Lib\\site-packages\\pandas\\io\\parsers\\readers.py:611\u001b[0m, in \u001b[0;36m_read\u001b[1;34m(filepath_or_buffer, kwds)\u001b[0m\n\u001b[0;32m    608\u001b[0m _validate_names(kwds\u001b[38;5;241m.\u001b[39mget(\u001b[38;5;124m\"\u001b[39m\u001b[38;5;124mnames\u001b[39m\u001b[38;5;124m\"\u001b[39m, \u001b[38;5;28;01mNone\u001b[39;00m))\n\u001b[0;32m    610\u001b[0m \u001b[38;5;66;03m# Create the parser.\u001b[39;00m\n\u001b[1;32m--> 611\u001b[0m parser \u001b[38;5;241m=\u001b[39m TextFileReader(filepath_or_buffer, \u001b[38;5;241m*\u001b[39m\u001b[38;5;241m*\u001b[39mkwds)\n\u001b[0;32m    613\u001b[0m \u001b[38;5;28;01mif\u001b[39;00m chunksize \u001b[38;5;129;01mor\u001b[39;00m iterator:\n\u001b[0;32m    614\u001b[0m     \u001b[38;5;28;01mreturn\u001b[39;00m parser\n",
      "File \u001b[1;32m~\\Anaconda\\Lib\\site-packages\\pandas\\io\\parsers\\readers.py:1448\u001b[0m, in \u001b[0;36mTextFileReader.__init__\u001b[1;34m(self, f, engine, **kwds)\u001b[0m\n\u001b[0;32m   1445\u001b[0m     \u001b[38;5;28mself\u001b[39m\u001b[38;5;241m.\u001b[39moptions[\u001b[38;5;124m\"\u001b[39m\u001b[38;5;124mhas_index_names\u001b[39m\u001b[38;5;124m\"\u001b[39m] \u001b[38;5;241m=\u001b[39m kwds[\u001b[38;5;124m\"\u001b[39m\u001b[38;5;124mhas_index_names\u001b[39m\u001b[38;5;124m\"\u001b[39m]\n\u001b[0;32m   1447\u001b[0m \u001b[38;5;28mself\u001b[39m\u001b[38;5;241m.\u001b[39mhandles: IOHandles \u001b[38;5;241m|\u001b[39m \u001b[38;5;28;01mNone\u001b[39;00m \u001b[38;5;241m=\u001b[39m \u001b[38;5;28;01mNone\u001b[39;00m\n\u001b[1;32m-> 1448\u001b[0m \u001b[38;5;28mself\u001b[39m\u001b[38;5;241m.\u001b[39m_engine \u001b[38;5;241m=\u001b[39m \u001b[38;5;28mself\u001b[39m\u001b[38;5;241m.\u001b[39m_make_engine(f, \u001b[38;5;28mself\u001b[39m\u001b[38;5;241m.\u001b[39mengine)\n",
      "File \u001b[1;32m~\\Anaconda\\Lib\\site-packages\\pandas\\io\\parsers\\readers.py:1705\u001b[0m, in \u001b[0;36mTextFileReader._make_engine\u001b[1;34m(self, f, engine)\u001b[0m\n\u001b[0;32m   1703\u001b[0m     \u001b[38;5;28;01mif\u001b[39;00m \u001b[38;5;124m\"\u001b[39m\u001b[38;5;124mb\u001b[39m\u001b[38;5;124m\"\u001b[39m \u001b[38;5;129;01mnot\u001b[39;00m \u001b[38;5;129;01min\u001b[39;00m mode:\n\u001b[0;32m   1704\u001b[0m         mode \u001b[38;5;241m+\u001b[39m\u001b[38;5;241m=\u001b[39m \u001b[38;5;124m\"\u001b[39m\u001b[38;5;124mb\u001b[39m\u001b[38;5;124m\"\u001b[39m\n\u001b[1;32m-> 1705\u001b[0m \u001b[38;5;28mself\u001b[39m\u001b[38;5;241m.\u001b[39mhandles \u001b[38;5;241m=\u001b[39m get_handle(\n\u001b[0;32m   1706\u001b[0m     f,\n\u001b[0;32m   1707\u001b[0m     mode,\n\u001b[0;32m   1708\u001b[0m     encoding\u001b[38;5;241m=\u001b[39m\u001b[38;5;28mself\u001b[39m\u001b[38;5;241m.\u001b[39moptions\u001b[38;5;241m.\u001b[39mget(\u001b[38;5;124m\"\u001b[39m\u001b[38;5;124mencoding\u001b[39m\u001b[38;5;124m\"\u001b[39m, \u001b[38;5;28;01mNone\u001b[39;00m),\n\u001b[0;32m   1709\u001b[0m     compression\u001b[38;5;241m=\u001b[39m\u001b[38;5;28mself\u001b[39m\u001b[38;5;241m.\u001b[39moptions\u001b[38;5;241m.\u001b[39mget(\u001b[38;5;124m\"\u001b[39m\u001b[38;5;124mcompression\u001b[39m\u001b[38;5;124m\"\u001b[39m, \u001b[38;5;28;01mNone\u001b[39;00m),\n\u001b[0;32m   1710\u001b[0m     memory_map\u001b[38;5;241m=\u001b[39m\u001b[38;5;28mself\u001b[39m\u001b[38;5;241m.\u001b[39moptions\u001b[38;5;241m.\u001b[39mget(\u001b[38;5;124m\"\u001b[39m\u001b[38;5;124mmemory_map\u001b[39m\u001b[38;5;124m\"\u001b[39m, \u001b[38;5;28;01mFalse\u001b[39;00m),\n\u001b[0;32m   1711\u001b[0m     is_text\u001b[38;5;241m=\u001b[39mis_text,\n\u001b[0;32m   1712\u001b[0m     errors\u001b[38;5;241m=\u001b[39m\u001b[38;5;28mself\u001b[39m\u001b[38;5;241m.\u001b[39moptions\u001b[38;5;241m.\u001b[39mget(\u001b[38;5;124m\"\u001b[39m\u001b[38;5;124mencoding_errors\u001b[39m\u001b[38;5;124m\"\u001b[39m, \u001b[38;5;124m\"\u001b[39m\u001b[38;5;124mstrict\u001b[39m\u001b[38;5;124m\"\u001b[39m),\n\u001b[0;32m   1713\u001b[0m     storage_options\u001b[38;5;241m=\u001b[39m\u001b[38;5;28mself\u001b[39m\u001b[38;5;241m.\u001b[39moptions\u001b[38;5;241m.\u001b[39mget(\u001b[38;5;124m\"\u001b[39m\u001b[38;5;124mstorage_options\u001b[39m\u001b[38;5;124m\"\u001b[39m, \u001b[38;5;28;01mNone\u001b[39;00m),\n\u001b[0;32m   1714\u001b[0m )\n\u001b[0;32m   1715\u001b[0m \u001b[38;5;28;01massert\u001b[39;00m \u001b[38;5;28mself\u001b[39m\u001b[38;5;241m.\u001b[39mhandles \u001b[38;5;129;01mis\u001b[39;00m \u001b[38;5;129;01mnot\u001b[39;00m \u001b[38;5;28;01mNone\u001b[39;00m\n\u001b[0;32m   1716\u001b[0m f \u001b[38;5;241m=\u001b[39m \u001b[38;5;28mself\u001b[39m\u001b[38;5;241m.\u001b[39mhandles\u001b[38;5;241m.\u001b[39mhandle\n",
      "File \u001b[1;32m~\\Anaconda\\Lib\\site-packages\\pandas\\io\\common.py:863\u001b[0m, in \u001b[0;36mget_handle\u001b[1;34m(path_or_buf, mode, encoding, compression, memory_map, is_text, errors, storage_options)\u001b[0m\n\u001b[0;32m    858\u001b[0m \u001b[38;5;28;01melif\u001b[39;00m \u001b[38;5;28misinstance\u001b[39m(handle, \u001b[38;5;28mstr\u001b[39m):\n\u001b[0;32m    859\u001b[0m     \u001b[38;5;66;03m# Check whether the filename is to be opened in binary mode.\u001b[39;00m\n\u001b[0;32m    860\u001b[0m     \u001b[38;5;66;03m# Binary mode does not support 'encoding' and 'newline'.\u001b[39;00m\n\u001b[0;32m    861\u001b[0m     \u001b[38;5;28;01mif\u001b[39;00m ioargs\u001b[38;5;241m.\u001b[39mencoding \u001b[38;5;129;01mand\u001b[39;00m \u001b[38;5;124m\"\u001b[39m\u001b[38;5;124mb\u001b[39m\u001b[38;5;124m\"\u001b[39m \u001b[38;5;129;01mnot\u001b[39;00m \u001b[38;5;129;01min\u001b[39;00m ioargs\u001b[38;5;241m.\u001b[39mmode:\n\u001b[0;32m    862\u001b[0m         \u001b[38;5;66;03m# Encoding\u001b[39;00m\n\u001b[1;32m--> 863\u001b[0m         handle \u001b[38;5;241m=\u001b[39m \u001b[38;5;28mopen\u001b[39m(\n\u001b[0;32m    864\u001b[0m             handle,\n\u001b[0;32m    865\u001b[0m             ioargs\u001b[38;5;241m.\u001b[39mmode,\n\u001b[0;32m    866\u001b[0m             encoding\u001b[38;5;241m=\u001b[39mioargs\u001b[38;5;241m.\u001b[39mencoding,\n\u001b[0;32m    867\u001b[0m             errors\u001b[38;5;241m=\u001b[39merrors,\n\u001b[0;32m    868\u001b[0m             newline\u001b[38;5;241m=\u001b[39m\u001b[38;5;124m\"\u001b[39m\u001b[38;5;124m\"\u001b[39m,\n\u001b[0;32m    869\u001b[0m         )\n\u001b[0;32m    870\u001b[0m     \u001b[38;5;28;01melse\u001b[39;00m:\n\u001b[0;32m    871\u001b[0m         \u001b[38;5;66;03m# Binary mode\u001b[39;00m\n\u001b[0;32m    872\u001b[0m         handle \u001b[38;5;241m=\u001b[39m \u001b[38;5;28mopen\u001b[39m(handle, ioargs\u001b[38;5;241m.\u001b[39mmode)\n",
      "\u001b[1;31mFileNotFoundError\u001b[0m: [Errno 2] No such file or directory: 'asylum-applications.csv'"
     ]
    }
   ],
   "source": [
    "# a list with all missing value formats\n",
    "missing_value_formats = [\"n.a.\",\"?\",\"NA\",\"n/a\",\"na\",\" \",\"--\",\"nan\",\"UnKnown\",\"Na\",\"unknown\"]\n",
    "df= pd.read_csv(\"data.csv\", na_values = missing_value_formats)"
   ]
  },
  {
   "cell_type": "code",
   "execution_count": null,
   "id": "02fbf760-43aa-4b6b-8466-ea808fbcef2e",
   "metadata": {},
   "outputs": [],
   "source": [
    "df = df.dropna(axis = 1, how ='all')"
   ]
  },
  {
   "cell_type": "code",
   "execution_count": null,
   "id": "9ae9f2d9-e712-4555-a5e1-86e959b71ec8",
   "metadata": {},
   "outputs": [],
   "source": [
    "df.isnull().sum()"
   ]
  },
  {
   "cell_type": "code",
   "execution_count": null,
   "id": "4387e569-2253-405a-a9e2-976584720748",
   "metadata": {},
   "outputs": [],
   "source": [
    "df.info()"
   ]
  },
  {
   "cell_type": "code",
   "execution_count": null,
   "id": "4551c32c-d7b8-4491-aeb3-5b315d95d6d2",
   "metadata": {},
   "outputs": [],
   "source": [
    "df = df[df['Stage of procedure'] != ' ']"
   ]
  },
  {
   "cell_type": "code",
   "execution_count": null,
   "id": "97eb23f2-7c67-4fe1-aa41-5b9ce487a51f",
   "metadata": {},
   "outputs": [],
   "source": [
    "df = df[df['Stage of procedure'] != 'nan']"
   ]
  },
  {
   "cell_type": "code",
   "execution_count": null,
   "id": "04fee72f-02de-470d-9301-ab4c64101daf",
   "metadata": {},
   "outputs": [],
   "source": [
    "df.isnull().sum()"
   ]
  },
  {
   "cell_type": "markdown",
   "id": "b6cfab7b-eb1b-45fa-83b2-34b4bde3b9c4",
   "metadata": {},
   "source": [
    "# Some visuals of initial dataset"
   ]
  },
  {
   "cell_type": "code",
   "execution_count": null,
   "id": "e51a0375-7d32-445c-8582-82e0dd1cac40",
   "metadata": {},
   "outputs": [],
   "source": [
    "sns.displot(df[\"Stage of procedure\"])"
   ]
  },
  {
   "cell_type": "code",
   "execution_count": null,
   "id": "6968471e-dcaf-4171-96c4-187b976bc00e",
   "metadata": {},
   "outputs": [],
   "source": [
    "sns.boxplot(x=df[\"applied\"])"
   ]
  },
  {
   "cell_type": "code",
   "execution_count": null,
   "id": "b7578eec-1717-4385-9105-25264d96b04b",
   "metadata": {},
   "outputs": [],
   "source": [
    "fig, ax = plt.subplots(figsize=(20,10))\n",
    "ax.scatter(df[\"Country of asylum\"], df[\"Country of origin\"])\n",
    "ax.set_xlabel(\"Country of Asylum\")\n",
    "ax.set_ylabel(\"Country of origin\")\n",
    "plt.show()"
   ]
  },
  {
   "cell_type": "markdown",
   "id": "9a5326bb-709e-4511-94cc-dc356b72cd9f",
   "metadata": {},
   "source": [
    "# Data Preperation"
   ]
  },
  {
   "cell_type": "code",
   "execution_count": null,
   "id": "55383bf3-a5e2-4c5d-89e8-2ba645762076",
   "metadata": {},
   "outputs": [],
   "source": [
    "from sklearn import preprocessing \n",
    "le = preprocessing.LabelEncoder()\n",
    "label_encoder = preprocessing.LabelEncoder()"
   ]
  },
  {
   "cell_type": "code",
   "execution_count": null,
   "id": "c65b1f78-73dd-402e-bfe7-cc2a988f985f",
   "metadata": {},
   "outputs": [],
   "source": [
    "df = df.apply(le.fit_transform)"
   ]
  },
  {
   "cell_type": "code",
   "execution_count": null,
   "id": "748599fd-734e-4019-b90b-873ebbc4d20f",
   "metadata": {},
   "outputs": [],
   "source": [
    "df.isnull().sum()"
   ]
  },
  {
   "cell_type": "code",
   "execution_count": null,
   "id": "fa240ce8-2eb3-421d-8628-736cbc38e931",
   "metadata": {},
   "outputs": [],
   "source": []
  },
  {
   "cell_type": "markdown",
   "id": "a71ad145-dc1a-4679-8aff-35ea856e2fdd",
   "metadata": {},
   "source": [
    "# Modelling and Evaluation"
   ]
  },
  {
   "cell_type": "code",
   "execution_count": null,
   "id": "ef7a9d34-7e46-4eaa-8444-e85f977ce8cb",
   "metadata": {},
   "outputs": [],
   "source": [
    "# Importing train-test-split \n",
    "from sklearn.model_selection import train_test_split"
   ]
  },
  {
   "cell_type": "code",
   "execution_count": null,
   "id": "69208952-3721-482d-9f35-1c66883f17df",
   "metadata": {},
   "outputs": [],
   "source": [
    "# Putting feature variable to X\n",
    "X = df.drop('applied',axis=1)\n",
    "\n",
    "# Putting response variable to y\n",
    "y = df['applied']"
   ]
  },
  {
   "cell_type": "code",
   "execution_count": null,
   "id": "16c1b310-1939-4dc1-a672-62add1aaaf1d",
   "metadata": {},
   "outputs": [],
   "source": [
    "# Splitting the data into train and test\n",
    "X_train, X_test, y_train, y_test = train_test_split(X, y, \n",
    "                                                    test_size=0.30, \n",
    "                                                    random_state = 99)\n",
    "X_train.head()"
   ]
  },
  {
   "cell_type": "code",
   "execution_count": null,
   "id": "5958ac86-7dcf-4ffe-90c4-1c35c037db0e",
   "metadata": {},
   "outputs": [],
   "source": [
    "# Importing decision tree classifier from sklearn library\n",
    "from sklearn.tree import DecisionTreeClassifier\n",
    "\n",
    "# Fitting the decision tree with default hyperparameters, apart from\n",
    "# max_depth which is 5 so that we can plot and read the tree.\n",
    "dt_default = DecisionTreeClassifier(max_depth=5)\n",
    "dt_default.fit(X_train, y_train)"
   ]
  },
  {
   "cell_type": "code",
   "execution_count": null,
   "id": "9007b342-c66b-45cf-8215-5796803fb807",
   "metadata": {},
   "outputs": [],
   "source": [
    "# Let's check the evaluation metrics of our default model\n",
    "\n",
    "# Importing classification report and confusion matrix from sklearn metrics\n",
    "from sklearn.metrics import classification_report, confusion_matrix, accuracy_score\n",
    "\n",
    "# Making predictions\n",
    "y_pred_default = dt_default.predict(X_test)\n",
    "\n",
    "# Printing classification report\n",
    "print(classification_report(y_test, y_pred_default))"
   ]
  },
  {
   "cell_type": "code",
   "execution_count": null,
   "id": "9ff44938-8aa7-4a99-84f4-1b2dde99fdc1",
   "metadata": {},
   "outputs": [],
   "source": [
    "# Printing confusion matrix and accuracy\n",
    "print(confusion_matrix(y_test,y_pred_default))\n",
    "print(accuracy_score(y_test,y_pred_default))"
   ]
  },
  {
   "cell_type": "code",
   "execution_count": null,
   "id": "3c9ecf1d-3f5e-408a-ba3e-c45048940d94",
   "metadata": {},
   "outputs": [],
   "source": [
    "import matplotlib.pyplot as plt     \n",
    "from sklearn import tree\n",
    "\n",
    "# Set the size of the figure\n",
    "plt.figure(figsize = (12, 8))\n",
    "\n",
    "# Display the tree by calling a method plot_tree()\n",
    "tree.plot_tree(dt_default) "
   ]
  },
  {
   "cell_type": "code",
   "execution_count": null,
   "id": "e046387c-667a-4a7f-82d8-c9e840d450af",
   "metadata": {},
   "outputs": [],
   "source": [
    "from sklearn.model_selection import GridSearchCV\n",
    "\n",
    "# Create the parameter grid \n",
    "param_grid = {\n",
    "    'max_depth': range(5, 15, 2),\n",
    "    'criterion': [\"entropy\", \"gini\"]\n",
    "}\n",
    "\n",
    "n_folds = 5\n",
    "\n",
    "# Instantiate the grid search model\n",
    "dtree = DecisionTreeClassifier()\n",
    "grid_search = GridSearchCV(estimator = dtree, param_grid = param_grid, \n",
    "                          cv = n_folds, verbose = 1)\n",
    "\n",
    "# Fit the grid search to the data\n",
    "grid_search.fit(X_train,y_train)"
   ]
  },
  {
   "cell_type": "code",
   "execution_count": null,
   "id": "eb4cc92f-70c7-4afc-80e5-7c8737986bba",
   "metadata": {
    "scrolled": true
   },
   "outputs": [],
   "source": [
    "# cv results\n",
    "cv_results = pd.DataFrame(grid_search.cv_results_)\n",
    "cv_results"
   ]
  },
  {
   "cell_type": "code",
   "execution_count": null,
   "id": "884e4220-63f1-4d37-892d-a48a00b24325",
   "metadata": {},
   "outputs": [],
   "source": [
    "# printing the optimal accuracy score and hyperparameters\n",
    "print(\"best accuracy\", grid_search.best_score_)\n",
    "print(grid_search.best_estimator_)"
   ]
  },
  {
   "cell_type": "code",
   "execution_count": null,
   "id": "83de9c52-273c-461f-832c-c953bc69666a",
   "metadata": {},
   "outputs": [],
   "source": [
    "# Find the highest accuracy value\n",
    "cv_results['mean_test_score'].max()\n",
    "\n",
    "# The depth of the tree is 9 for this accuracy"
   ]
  },
  {
   "cell_type": "code",
   "execution_count": null,
   "id": "1ad5c123-066e-4bb5-85ff-65087fdb2b42",
   "metadata": {},
   "outputs": [],
   "source": [
    "# cv results\n",
    "cv_results = pd.DataFrame(grid_search.cv_results_)\n",
    "cv_results"
   ]
  },
  {
   "cell_type": "code",
   "execution_count": null,
   "id": "7ab3ff38-8557-48d6-886a-5a5abd74cc68",
   "metadata": {},
   "outputs": [],
   "source": [
    "# model with optimal hyperparameters\n",
    "clf_gini = DecisionTreeClassifier(criterion = \"gini\", \n",
    "                                  random_state = 100,\n",
    "                                  max_depth=9)\n",
    "clf_gini.fit(X_train, y_train)"
   ]
  },
  {
   "cell_type": "code",
   "execution_count": null,
   "id": "511ac53a-e24e-4abb-9e81-793f1c15ee7d",
   "metadata": {},
   "outputs": [],
   "source": [
    "# accuracy score\n",
    "clf_gini.score(X_test,y_test)"
   ]
  },
  {
   "cell_type": "code",
   "execution_count": null,
   "id": "e41c4446-627c-4aaa-8528-c52368d6c996",
   "metadata": {},
   "outputs": [],
   "source": [
    "# accuracy score\n",
    "clf_gini.score(X_test,y_test)"
   ]
  },
  {
   "cell_type": "code",
   "execution_count": null,
   "id": "ee567e2e-953a-42dd-9711-88e5a97f6b18",
   "metadata": {},
   "outputs": [],
   "source": [
    "import matplotlib.pyplot as plt\n",
    "from sklearn import tree\n",
    "\n",
    "# Set the size of the figure\n",
    "plt.figure(figsize = (12, 8))\n",
    "\n",
    "# Display the tree by calling a method plot_tree()\n",
    "tree.plot_tree(clf_gini)"
   ]
  },
  {
   "cell_type": "code",
   "execution_count": null,
   "id": "4879391b-7627-4094-996a-368e07c9e4b9",
   "metadata": {},
   "outputs": [],
   "source": [
    "# tree with max_depth = 3\n",
    "clf_gini = DecisionTreeClassifier(criterion = \"gini\", \n",
    "                                  random_state = 100,\n",
    "                                  max_depth=3)\n",
    "clf_gini.fit(X_train, y_train)\n",
    "\n",
    "# score\n",
    "print(clf_gini.score(X_test,y_test))"
   ]
  },
  {
   "cell_type": "code",
   "execution_count": null,
   "id": "a51a3081-887e-4327-a577-3760437d06c8",
   "metadata": {},
   "outputs": [],
   "source": [
    "import matplotlib.pyplot as plt\n",
    "from sklearn import tree\n",
    "\n",
    "# Set the size of the figure\n",
    "plt.figure(figsize = (12, 8))\n",
    "\n",
    "# Display the tree by calling a method plot_tree()\n",
    "tree.plot_tree(clf_gini) "
   ]
  },
  {
   "cell_type": "code",
   "execution_count": null,
   "id": "a6767680-8b77-40a3-8bd3-7e3a1ca3258a",
   "metadata": {},
   "outputs": [],
   "source": [
    "# classification metrics\n",
    "from sklearn.metrics import classification_report,confusion_matrix\n",
    "y_pred = clf_gini.predict(X_test)\n",
    "print(classification_report(y_test, y_pred))"
   ]
  },
  {
   "cell_type": "code",
   "execution_count": null,
   "id": "267cd6b7-0cc4-4ebc-800d-9428d4a56032",
   "metadata": {},
   "outputs": [],
   "source": [
    "# confusion matrix\n",
    "print(confusion_matrix(y_test,y_pred))"
   ]
  },
  {
   "cell_type": "code",
   "execution_count": null,
   "id": "f0c47e6c-70fd-4285-b412-fee4ce86fce3",
   "metadata": {},
   "outputs": [],
   "source": [
    "df.isnull().sum()"
   ]
  },
  {
   "cell_type": "code",
   "execution_count": null,
   "id": "029b258f-7cdc-4704-aa4c-a210fefbc848",
   "metadata": {},
   "outputs": [],
   "source": [
    "df[\"Stage of procedure\"].unique()"
   ]
  },
  {
   "cell_type": "markdown",
   "id": "40a413ea-48ac-4bc2-8dbe-cf220af86ff7",
   "metadata": {},
   "source": [
    "<p>I am going to look at the stage of procedure which basically means the application status</p> "
   ]
  },
  {
   "cell_type": "code",
   "execution_count": null,
   "id": "9391eeef-f810-49e1-ab9e-7be4738fd402",
   "metadata": {},
   "outputs": [],
   "source": [
    "# Splitting the data into train and test\n",
    "X_train, X_test, y_train, y_test = train_test_split(X, y, \n",
    "                                                    test_size=0.30, \n",
    "                                                    random_state = 99)\n",
    "X_train.head()"
   ]
  },
  {
   "cell_type": "code",
   "execution_count": null,
   "id": "3d89791f-2156-4696-a91d-5b9769fee502",
   "metadata": {},
   "outputs": [],
   "source": [
    "scaler= StandardScaler()\n",
    "X_scaled=scaler.fit_transform(df)\n",
    "# Optionally, reduce dimensionality for visualization\n",
    "pca = PCA(n_components=2)\n",
    "X_pca = pca.fit_transform(X_scaled)"
   ]
  },
  {
   "cell_type": "code",
   "execution_count": null,
   "id": "e73e85bf-f740-49c9-9e56-2d63b0a5114a",
   "metadata": {},
   "outputs": [],
   "source": [
    "#setting up the parameter grif for the tuning purposes\n",
    "param_grid={\n",
    "    'n_clusters':[2,3,4,5,6,7,8],\n",
    "    'init':['k-means++','random'],\n",
    "    'n_init':[10,20],\n",
    "    'max_iter':[100,300]\n",
    "}"
   ]
  },
  {
   "cell_type": "code",
   "execution_count": null,
   "id": "88b9e86c-2531-401d-9308-555dab4d114a",
   "metadata": {},
   "outputs": [],
   "source": [
    "#Inialising the KMeans\n",
    "kmeans= KMeans(random_state=42)\n",
    "\n",
    "# Use GridSearchCV to find the best parameters\n",
    "grid_search = GridSearchCV(estimator=kmeans, param_grid=param_grid, cv=3, n_jobs=-1)\n",
    "grid_search.fit(X_scaled)\n",
    "\n",
    "# Best hyperparameters\n",
    "best_params = grid_search.best_params_\n",
    "print(\"Best hyperparameters found by GridSearchCV:\", best_params)\n",
    "\n"
   ]
  },
  {
   "cell_type": "code",
   "execution_count": null,
   "id": "3b761eb6-2bb2-4e6e-a599-94461d4d9de2",
   "metadata": {},
   "outputs": [],
   "source": [
    "# Apply the best KMeans model with optimal hyperparameters\n",
    "best_kmeans = grid_search.best_estimator_\n",
    "\n",
    "# Fit the model\n",
    "best_kmeans.fit(X_scaled)\n",
    "\n",
    "# Predict the cluster labels\n",
    "labels = best_kmeans.predict(X_scaled)\n",
    "\n",
    "# Visualization: Plot the first two principal components and color by cluster labels\n",
    "plt.figure(figsize=(8, 6))\n",
    "sns.scatterplot(x=X_pca[:, 0], y=X_pca[:, 1], hue=labels, palette=\"deep\", s=100, alpha=0.7)\n",
    "plt.title(f\"KMeans Clustering with {best_params['n_clusters']} Clusters\")\n",
    "plt.xlabel(\"Principal Component 1\")\n",
    "plt.ylabel(\"Principal Component 2\")\n",
    "plt.legend(title=\"Cluster\", loc=\"best\")\n",
    "plt.show()"
   ]
  },
  {
   "cell_type": "code",
   "execution_count": null,
   "id": "5d20c6b2-dfdf-41ef-b926-06ba0c5746ef",
   "metadata": {},
   "outputs": [],
   "source": [
    "from sklearn.metrics import silhouette_score\n",
    "\n",
    "# Compute the silhouette score\n",
    "sil_score = silhouette_score(X_scaled, labels)\n",
    "print(f\"Silhouette Score: {sil_score:.3f}\")"
   ]
  },
  {
   "cell_type": "code",
   "execution_count": null,
   "id": "477b7562-8605-4b2b-afe8-dab471f024a9",
   "metadata": {},
   "outputs": [],
   "source": [
    "from sklearn.neighbors import KNeighborsClassifier"
   ]
  },
  {
   "cell_type": "code",
   "execution_count": null,
   "id": "20704a06-23da-453b-bcd0-43c793e56a48",
   "metadata": {},
   "outputs": [],
   "source": [
    "# Splitting the data into train and test\n",
    "X_train, X_test, y_train, y_test = train_test_split(X, y, \n",
    "                                                    test_size=0.2, \n",
    "                                                    random_state = 42)"
   ]
  },
  {
   "cell_type": "code",
   "execution_count": null,
   "id": "25109540-62b0-41f7-be0a-3b56f3f3dc9f",
   "metadata": {},
   "outputs": [],
   "source": [
    "#Hyperparameter Tuning along with GridSearchCV\n",
    "#We need to define the parameter grid for k values and the distance metrics\n",
    "param_grid={\n",
    "    'n_neighbors': range(1,11), # This is to test k from 1 to 10\n",
    "    'metric':['euclidean','manhattan','minkowski']\n",
    "    \n",
    "}"
   ]
  },
  {
   "cell_type": "code",
   "execution_count": null,
   "id": "519744e8-8a9f-4bbb-8588-ff708f52f2ed",
   "metadata": {},
   "outputs": [],
   "source": [
    "#We are using GridSearchCV in order to find the best hyperoarameters\n",
    "knn= KNeighborsClassifier()\n",
    "grid_search=GridSearchCV(knn,param_grid,cv=5, scoring='accuracy')\n",
    "grid_search.fit(X_train,y_train)"
   ]
  },
  {
   "cell_type": "code",
   "execution_count": null,
   "id": "60460a1c-4296-42d3-acc3-932d39dd93bf",
   "metadata": {},
   "outputs": [],
   "source": [
    "#Getting the best model\n",
    "best_knn=grid_search.best_estimator_\n",
    "print(\"Best Parameters:\",grid_search.best_params_)"
   ]
  },
  {
   "cell_type": "code",
   "execution_count": null,
   "id": "ac21b6dc-a09b-413d-9232-e43222670d74",
   "metadata": {},
   "outputs": [],
   "source": [
    "#Training and evaluating the KNN model wit the hyperparameters optimized\n",
    "y_pred=best_knn.predict(X_test)\n",
    "accuracy=accuracy_score(y_test,y_pred)\n",
    "print (\"Accuracy:\",accuracy)\n",
    "print(classification_report(y_test,y_pred))"
   ]
  },
  {
   "cell_type": "code",
   "execution_count": null,
   "id": "0ca20223-f6eb-499d-9a2f-9faf3325dfe7",
   "metadata": {},
   "outputs": [],
   "source": [
    "#Confusion Matrix to gain better insight\n",
    "confusion_matrix=confusion_matrix(y_test,y_pred)\n",
    "sns.heatmap(confusion_matrix,annot=True,cmap='Blues',fmt='g')\n",
    "plt.title('Confusion Matrix')\n",
    "plt.xlabel('Predicted Label')\n",
    "plt.ylabel('True Label')\n",
    "plt.show()"
   ]
  },
  {
   "cell_type": "code",
   "execution_count": null,
   "id": "1b087db1-e983-478a-a4df-8115e02d0ca2",
   "metadata": {},
   "outputs": [],
   "source": [
    "#Visualize the data structures and reduce the dimensions with PCA for visualising\n",
    "pca=PCA(n_components=2)\n",
    "X_train_2D=pca.fit_transform(X_train)\n",
    "X_test_2D=pca.transform(X_test)"
   ]
  },
  {
   "cell_type": "code",
   "execution_count": null,
   "id": "00128008-2994-47a7-a49d-9af6d05ae455",
   "metadata": {},
   "outputs": [],
   "source": [
    "# Plot training data clusters\n",
    "plt.figure(figsize=(12, 6))\n",
    "sns.scatterplot(x=X_train_2D[:, 0], y=X_train_2D[:, 1], hue=y_train, palette=\"viridis\", style=y_train)\n",
    "plt.title(\"Training Data Clusters (High vs Low Applications)\")\n",
    "plt.xlabel(\"PCA Component 1\")\n",
    "plt.ylabel(\"PCA Component 2\")\n",
    "plt.show()"
   ]
  },
  {
   "cell_type": "code",
   "execution_count": null,
   "id": "ee141811-5c2a-4608-9287-1aa60aa9b0a3",
   "metadata": {},
   "outputs": [],
   "source": [
    "# Plot test data and predictions\n",
    "plt.figure(figsize=(12, 6))\n",
    "sns.scatterplot(x=X_test_2D[:, 0], y=X_test_2D[:, 1], hue=y_pred, palette=\"viridis\", style=y_test)\n",
    "plt.title(\"Test Data with KNN Predictions (High vs Low Applications)\")\n",
    "plt.xlabel(\"PCA Component 1\")\n",
    "plt.ylabel(\"PCA Component 2\")\n",
    "plt.show()"
   ]
  },
  {
   "cell_type": "code",
   "execution_count": null,
   "id": "9c86455b-7419-4b07-849a-cc0cee1b6438",
   "metadata": {},
   "outputs": [],
   "source": []
  }
 ],
 "metadata": {
  "kernelspec": {
   "display_name": "Python 3 (ipykernel)",
   "language": "python",
   "name": "python3"
  },
  "language_info": {
   "codemirror_mode": {
    "name": "ipython",
    "version": 3
   },
   "file_extension": ".py",
   "mimetype": "text/x-python",
   "name": "python",
   "nbconvert_exporter": "python",
   "pygments_lexer": "ipython3",
   "version": "3.11.7"
  }
 },
 "nbformat": 4,
 "nbformat_minor": 5
}
