{
 "cells": [
  {
   "cell_type": "code",
   "execution_count": 1,
   "id": "66492f1c-48ae-492c-a048-46a0725586a5",
   "metadata": {},
   "outputs": [],
   "source": [
    "#import required libraries\n",
    "import pandas as pd\n",
    "import seaborn as sns\n",
    "import numpy as np\n",
    "import matplotlib.pyplot as plt #visualisation "
   ]
  },
  {
   "cell_type": "code",
   "execution_count": 2,
   "id": "529a5547-0fd2-411c-89e6-ae0d3defeef2",
   "metadata": {},
   "outputs": [],
   "source": [
    "# To ignore warnings\n",
    "import warnings\n",
    "warnings.filterwarnings(\"ignore\")"
   ]
  },
  {
   "cell_type": "code",
   "execution_count": 3,
   "id": "aa611798-4563-49d4-b308-d1d305fcc679",
   "metadata": {},
   "outputs": [],
   "source": [
    "df = pd.read_csv('asylum-applications.csv')"
   ]
  },
  {
   "cell_type": "code",
   "execution_count": 4,
   "id": "16a6f0a9-886d-49c9-924f-8cf3cfa7b7c5",
   "metadata": {},
   "outputs": [
    {
     "data": {
      "text/html": [
       "<div>\n",
       "<style scoped>\n",
       "    .dataframe tbody tr th:only-of-type {\n",
       "        vertical-align: middle;\n",
       "    }\n",
       "\n",
       "    .dataframe tbody tr th {\n",
       "        vertical-align: top;\n",
       "    }\n",
       "\n",
       "    .dataframe thead th {\n",
       "        text-align: right;\n",
       "    }\n",
       "</style>\n",
       "<table border=\"1\" class=\"dataframe\">\n",
       "  <thead>\n",
       "    <tr style=\"text-align: right;\">\n",
       "      <th></th>\n",
       "      <th>Year</th>\n",
       "      <th>Country of origin</th>\n",
       "      <th>Country of asylum</th>\n",
       "      <th>Country of origin (ISO)</th>\n",
       "      <th>Country of asylum (ISO)</th>\n",
       "      <th>Authority</th>\n",
       "      <th>Application type</th>\n",
       "      <th>Stage of procedure</th>\n",
       "      <th>Cases / Persons</th>\n",
       "      <th>applied</th>\n",
       "    </tr>\n",
       "  </thead>\n",
       "  <tbody>\n",
       "    <tr>\n",
       "      <th>0</th>\n",
       "      <td>2018</td>\n",
       "      <td>Albania</td>\n",
       "      <td>Austria</td>\n",
       "      <td>ALB</td>\n",
       "      <td>AUT</td>\n",
       "      <td>G</td>\n",
       "      <td>N</td>\n",
       "      <td>FA</td>\n",
       "      <td>P</td>\n",
       "      <td>63</td>\n",
       "    </tr>\n",
       "    <tr>\n",
       "      <th>1</th>\n",
       "      <td>2018</td>\n",
       "      <td>Albania</td>\n",
       "      <td>Belgium</td>\n",
       "      <td>ALB</td>\n",
       "      <td>BEL</td>\n",
       "      <td>G</td>\n",
       "      <td>N</td>\n",
       "      <td>FI</td>\n",
       "      <td>P</td>\n",
       "      <td>505</td>\n",
       "    </tr>\n",
       "    <tr>\n",
       "      <th>2</th>\n",
       "      <td>2018</td>\n",
       "      <td>Albania</td>\n",
       "      <td>Belgium</td>\n",
       "      <td>ALB</td>\n",
       "      <td>BEL</td>\n",
       "      <td>G</td>\n",
       "      <td>R</td>\n",
       "      <td>RA</td>\n",
       "      <td>P</td>\n",
       "      <td>165</td>\n",
       "    </tr>\n",
       "    <tr>\n",
       "      <th>3</th>\n",
       "      <td>2018</td>\n",
       "      <td>Albania</td>\n",
       "      <td>Cyprus</td>\n",
       "      <td>ALB</td>\n",
       "      <td>CYP</td>\n",
       "      <td>G</td>\n",
       "      <td>N</td>\n",
       "      <td>FI</td>\n",
       "      <td>P</td>\n",
       "      <td>5</td>\n",
       "    </tr>\n",
       "    <tr>\n",
       "      <th>4</th>\n",
       "      <td>2018</td>\n",
       "      <td>Albania</td>\n",
       "      <td>Czechia</td>\n",
       "      <td>ALB</td>\n",
       "      <td>CZE</td>\n",
       "      <td>G</td>\n",
       "      <td>N</td>\n",
       "      <td>FI</td>\n",
       "      <td>P</td>\n",
       "      <td>5</td>\n",
       "    </tr>\n",
       "  </tbody>\n",
       "</table>\n",
       "</div>"
      ],
      "text/plain": [
       "   Year Country of origin Country of asylum Country of origin (ISO)  \\\n",
       "0  2018           Albania           Austria                     ALB   \n",
       "1  2018           Albania           Belgium                     ALB   \n",
       "2  2018           Albania           Belgium                     ALB   \n",
       "3  2018           Albania            Cyprus                     ALB   \n",
       "4  2018           Albania           Czechia                     ALB   \n",
       "\n",
       "  Country of asylum (ISO) Authority Application type Stage of procedure  \\\n",
       "0                     AUT         G                N                 FA   \n",
       "1                     BEL         G                N                 FI   \n",
       "2                     BEL         G                R                 RA   \n",
       "3                     CYP         G                N                 FI   \n",
       "4                     CZE         G                N                 FI   \n",
       "\n",
       "  Cases / Persons  applied  \n",
       "0               P       63  \n",
       "1               P      505  \n",
       "2               P      165  \n",
       "3               P        5  \n",
       "4               P        5  "
      ]
     },
     "execution_count": 4,
     "metadata": {},
     "output_type": "execute_result"
    }
   ],
   "source": [
    "df.head()"
   ]
  },
  {
   "cell_type": "code",
   "execution_count": 5,
   "id": "ff226a06-f24c-4a7a-b530-f28eac884cdc",
   "metadata": {},
   "outputs": [
    {
     "data": {
      "text/html": [
       "<div>\n",
       "<style scoped>\n",
       "    .dataframe tbody tr th:only-of-type {\n",
       "        vertical-align: middle;\n",
       "    }\n",
       "\n",
       "    .dataframe tbody tr th {\n",
       "        vertical-align: top;\n",
       "    }\n",
       "\n",
       "    .dataframe thead th {\n",
       "        text-align: right;\n",
       "    }\n",
       "</style>\n",
       "<table border=\"1\" class=\"dataframe\">\n",
       "  <thead>\n",
       "    <tr style=\"text-align: right;\">\n",
       "      <th></th>\n",
       "      <th>Year</th>\n",
       "      <th>Country of origin</th>\n",
       "      <th>Country of asylum</th>\n",
       "      <th>Country of origin (ISO)</th>\n",
       "      <th>Country of asylum (ISO)</th>\n",
       "      <th>Authority</th>\n",
       "      <th>Application type</th>\n",
       "      <th>Stage of procedure</th>\n",
       "      <th>Cases / Persons</th>\n",
       "      <th>applied</th>\n",
       "    </tr>\n",
       "  </thead>\n",
       "  <tbody>\n",
       "    <tr>\n",
       "      <th>3493</th>\n",
       "      <td>2023</td>\n",
       "      <td>Ukraine</td>\n",
       "      <td>Sweden</td>\n",
       "      <td>UKR</td>\n",
       "      <td>SWE</td>\n",
       "      <td>G</td>\n",
       "      <td>A</td>\n",
       "      <td>AR</td>\n",
       "      <td>P</td>\n",
       "      <td>7</td>\n",
       "    </tr>\n",
       "    <tr>\n",
       "      <th>3494</th>\n",
       "      <td>2023</td>\n",
       "      <td>Ukraine</td>\n",
       "      <td>Sweden</td>\n",
       "      <td>UKR</td>\n",
       "      <td>SWE</td>\n",
       "      <td>G</td>\n",
       "      <td>N</td>\n",
       "      <td>FI</td>\n",
       "      <td>P</td>\n",
       "      <td>232</td>\n",
       "    </tr>\n",
       "    <tr>\n",
       "      <th>3495</th>\n",
       "      <td>2023</td>\n",
       "      <td>Ukraine</td>\n",
       "      <td>Sweden</td>\n",
       "      <td>UKR</td>\n",
       "      <td>SWE</td>\n",
       "      <td>G</td>\n",
       "      <td>R</td>\n",
       "      <td>RA</td>\n",
       "      <td>P</td>\n",
       "      <td>40</td>\n",
       "    </tr>\n",
       "    <tr>\n",
       "      <th>3496</th>\n",
       "      <td>2023</td>\n",
       "      <td>Ukraine</td>\n",
       "      <td>Switzerland</td>\n",
       "      <td>UKR</td>\n",
       "      <td>CHE</td>\n",
       "      <td>G</td>\n",
       "      <td>N</td>\n",
       "      <td>FI</td>\n",
       "      <td>P</td>\n",
       "      <td>17</td>\n",
       "    </tr>\n",
       "    <tr>\n",
       "      <th>3497</th>\n",
       "      <td>2023</td>\n",
       "      <td>Ukraine</td>\n",
       "      <td>Türkiye</td>\n",
       "      <td>UKR</td>\n",
       "      <td>TUR</td>\n",
       "      <td>G</td>\n",
       "      <td>N</td>\n",
       "      <td>FI</td>\n",
       "      <td>P</td>\n",
       "      <td>520</td>\n",
       "    </tr>\n",
       "  </tbody>\n",
       "</table>\n",
       "</div>"
      ],
      "text/plain": [
       "      Year Country of origin Country of asylum Country of origin (ISO)  \\\n",
       "3493  2023           Ukraine            Sweden                     UKR   \n",
       "3494  2023           Ukraine            Sweden                     UKR   \n",
       "3495  2023           Ukraine            Sweden                     UKR   \n",
       "3496  2023           Ukraine       Switzerland                     UKR   \n",
       "3497  2023           Ukraine           Türkiye                     UKR   \n",
       "\n",
       "     Country of asylum (ISO) Authority Application type Stage of procedure  \\\n",
       "3493                     SWE         G                A                 AR   \n",
       "3494                     SWE         G                N                 FI   \n",
       "3495                     SWE         G                R                 RA   \n",
       "3496                     CHE         G                N                 FI   \n",
       "3497                     TUR         G                N                 FI   \n",
       "\n",
       "     Cases / Persons  applied  \n",
       "3493               P        7  \n",
       "3494               P      232  \n",
       "3495               P       40  \n",
       "3496               P       17  \n",
       "3497               P      520  "
      ]
     },
     "execution_count": 5,
     "metadata": {},
     "output_type": "execute_result"
    }
   ],
   "source": [
    "df.tail()"
   ]
  },
  {
   "cell_type": "code",
   "execution_count": 6,
   "id": "0c68cdc5-adf6-45cf-9385-ec6d1ccaa979",
   "metadata": {},
   "outputs": [
    {
     "data": {
      "text/plain": [
       "(3498, 10)"
      ]
     },
     "execution_count": 6,
     "metadata": {},
     "output_type": "execute_result"
    }
   ],
   "source": [
    "df.shape"
   ]
  },
  {
   "cell_type": "code",
   "execution_count": 7,
   "id": "fb421b4e-c49b-4911-8b9c-8076c822e609",
   "metadata": {},
   "outputs": [
    {
     "name": "stdout",
     "output_type": "stream",
     "text": [
      "<class 'pandas.core.frame.DataFrame'>\n",
      "RangeIndex: 3498 entries, 0 to 3497\n",
      "Data columns (total 10 columns):\n",
      " #   Column                   Non-Null Count  Dtype \n",
      "---  ------                   --------------  ----- \n",
      " 0   Year                     3498 non-null   int64 \n",
      " 1   Country of origin        3498 non-null   object\n",
      " 2   Country of asylum        3498 non-null   object\n",
      " 3   Country of origin (ISO)  3498 non-null   object\n",
      " 4   Country of asylum (ISO)  3498 non-null   object\n",
      " 5   Authority                3498 non-null   object\n",
      " 6   Application type         3498 non-null   object\n",
      " 7   Stage of procedure       3433 non-null   object\n",
      " 8   Cases / Persons          3498 non-null   object\n",
      " 9   applied                  3498 non-null   int64 \n",
      "dtypes: int64(2), object(8)\n",
      "memory usage: 273.4+ KB\n"
     ]
    }
   ],
   "source": [
    "df.info()"
   ]
  },
  {
   "cell_type": "code",
   "execution_count": 8,
   "id": "8accf48e-fc82-45d4-aa88-a0407f8b40f2",
   "metadata": {},
   "outputs": [
    {
     "data": {
      "text/html": [
       "<div>\n",
       "<style scoped>\n",
       "    .dataframe tbody tr th:only-of-type {\n",
       "        vertical-align: middle;\n",
       "    }\n",
       "\n",
       "    .dataframe tbody tr th {\n",
       "        vertical-align: top;\n",
       "    }\n",
       "\n",
       "    .dataframe thead th {\n",
       "        text-align: right;\n",
       "    }\n",
       "</style>\n",
       "<table border=\"1\" class=\"dataframe\">\n",
       "  <thead>\n",
       "    <tr style=\"text-align: right;\">\n",
       "      <th></th>\n",
       "      <th>Year</th>\n",
       "      <th>applied</th>\n",
       "    </tr>\n",
       "  </thead>\n",
       "  <tbody>\n",
       "    <tr>\n",
       "      <th>count</th>\n",
       "      <td>3498.000000</td>\n",
       "      <td>3498.000000</td>\n",
       "    </tr>\n",
       "    <tr>\n",
       "      <th>mean</th>\n",
       "      <td>2020.489423</td>\n",
       "      <td>305.375071</td>\n",
       "    </tr>\n",
       "    <tr>\n",
       "      <th>std</th>\n",
       "      <td>1.717220</td>\n",
       "      <td>1963.590716</td>\n",
       "    </tr>\n",
       "    <tr>\n",
       "      <th>min</th>\n",
       "      <td>2018.000000</td>\n",
       "      <td>5.000000</td>\n",
       "    </tr>\n",
       "    <tr>\n",
       "      <th>25%</th>\n",
       "      <td>2019.000000</td>\n",
       "      <td>6.000000</td>\n",
       "    </tr>\n",
       "    <tr>\n",
       "      <th>50%</th>\n",
       "      <td>2021.000000</td>\n",
       "      <td>22.000000</td>\n",
       "    </tr>\n",
       "    <tr>\n",
       "      <th>75%</th>\n",
       "      <td>2022.000000</td>\n",
       "      <td>117.000000</td>\n",
       "    </tr>\n",
       "    <tr>\n",
       "      <th>max</th>\n",
       "      <td>2023.000000</td>\n",
       "      <td>100758.000000</td>\n",
       "    </tr>\n",
       "  </tbody>\n",
       "</table>\n",
       "</div>"
      ],
      "text/plain": [
       "              Year        applied\n",
       "count  3498.000000    3498.000000\n",
       "mean   2020.489423     305.375071\n",
       "std       1.717220    1963.590716\n",
       "min    2018.000000       5.000000\n",
       "25%    2019.000000       6.000000\n",
       "50%    2021.000000      22.000000\n",
       "75%    2022.000000     117.000000\n",
       "max    2023.000000  100758.000000"
      ]
     },
     "execution_count": 8,
     "metadata": {},
     "output_type": "execute_result"
    }
   ],
   "source": [
    "df.describe()"
   ]
  },
  {
   "cell_type": "code",
   "execution_count": 9,
   "id": "cbeac845-c50a-4e28-9b04-a6f5143441b0",
   "metadata": {},
   "outputs": [
    {
     "name": "stdout",
     "output_type": "stream",
     "text": [
      "<class 'pandas.core.frame.DataFrame'>\n",
      "RangeIndex: 3498 entries, 0 to 3497\n",
      "Data columns (total 10 columns):\n",
      " #   Column                   Non-Null Count  Dtype \n",
      "---  ------                   --------------  ----- \n",
      " 0   Year                     3498 non-null   int64 \n",
      " 1   Country of origin        3498 non-null   object\n",
      " 2   Country of asylum        3498 non-null   object\n",
      " 3   Country of origin (ISO)  3498 non-null   object\n",
      " 4   Country of asylum (ISO)  3498 non-null   object\n",
      " 5   Authority                3498 non-null   object\n",
      " 6   Application type         3498 non-null   object\n",
      " 7   Stage of procedure       3433 non-null   object\n",
      " 8   Cases / Persons          3498 non-null   object\n",
      " 9   applied                  3498 non-null   int64 \n",
      "dtypes: int64(2), object(8)\n",
      "memory usage: 273.4+ KB\n"
     ]
    }
   ],
   "source": [
    "df.info()"
   ]
  },
  {
   "cell_type": "code",
   "execution_count": 10,
   "id": "05de5a82-4bba-4c9d-ae8f-0db453706388",
   "metadata": {},
   "outputs": [
    {
     "name": "stdout",
     "output_type": "stream",
     "text": [
      "number of duplicate rows:  (0, 10)\n"
     ]
    }
   ],
   "source": [
    "duplicate_rows_df = df[df.duplicated()]\n",
    "print(\"number of duplicate rows: \", duplicate_rows_df.shape)"
   ]
  },
  {
   "cell_type": "code",
   "execution_count": 11,
   "id": "b09129bf-38e7-46a7-abdd-e7a84f556fde",
   "metadata": {},
   "outputs": [
    {
     "data": {
      "text/html": [
       "<div>\n",
       "<style scoped>\n",
       "    .dataframe tbody tr th:only-of-type {\n",
       "        vertical-align: middle;\n",
       "    }\n",
       "\n",
       "    .dataframe tbody tr th {\n",
       "        vertical-align: top;\n",
       "    }\n",
       "\n",
       "    .dataframe thead th {\n",
       "        text-align: right;\n",
       "    }\n",
       "</style>\n",
       "<table border=\"1\" class=\"dataframe\">\n",
       "  <thead>\n",
       "    <tr style=\"text-align: right;\">\n",
       "      <th></th>\n",
       "      <th>Year</th>\n",
       "      <th>Country of origin</th>\n",
       "      <th>Country of asylum</th>\n",
       "      <th>Country of origin (ISO)</th>\n",
       "      <th>Country of asylum (ISO)</th>\n",
       "      <th>Authority</th>\n",
       "      <th>Application type</th>\n",
       "      <th>Stage of procedure</th>\n",
       "      <th>Cases / Persons</th>\n",
       "      <th>applied</th>\n",
       "    </tr>\n",
       "  </thead>\n",
       "  <tbody>\n",
       "    <tr>\n",
       "      <th>0</th>\n",
       "      <td>2018</td>\n",
       "      <td>Albania</td>\n",
       "      <td>Austria</td>\n",
       "      <td>ALB</td>\n",
       "      <td>AUT</td>\n",
       "      <td>G</td>\n",
       "      <td>N</td>\n",
       "      <td>FA</td>\n",
       "      <td>P</td>\n",
       "      <td>63</td>\n",
       "    </tr>\n",
       "    <tr>\n",
       "      <th>1</th>\n",
       "      <td>2018</td>\n",
       "      <td>Albania</td>\n",
       "      <td>Belgium</td>\n",
       "      <td>ALB</td>\n",
       "      <td>BEL</td>\n",
       "      <td>G</td>\n",
       "      <td>N</td>\n",
       "      <td>FI</td>\n",
       "      <td>P</td>\n",
       "      <td>505</td>\n",
       "    </tr>\n",
       "    <tr>\n",
       "      <th>2</th>\n",
       "      <td>2018</td>\n",
       "      <td>Albania</td>\n",
       "      <td>Belgium</td>\n",
       "      <td>ALB</td>\n",
       "      <td>BEL</td>\n",
       "      <td>G</td>\n",
       "      <td>R</td>\n",
       "      <td>RA</td>\n",
       "      <td>P</td>\n",
       "      <td>165</td>\n",
       "    </tr>\n",
       "    <tr>\n",
       "      <th>3</th>\n",
       "      <td>2018</td>\n",
       "      <td>Albania</td>\n",
       "      <td>Cyprus</td>\n",
       "      <td>ALB</td>\n",
       "      <td>CYP</td>\n",
       "      <td>G</td>\n",
       "      <td>N</td>\n",
       "      <td>FI</td>\n",
       "      <td>P</td>\n",
       "      <td>5</td>\n",
       "    </tr>\n",
       "    <tr>\n",
       "      <th>4</th>\n",
       "      <td>2018</td>\n",
       "      <td>Albania</td>\n",
       "      <td>Czechia</td>\n",
       "      <td>ALB</td>\n",
       "      <td>CZE</td>\n",
       "      <td>G</td>\n",
       "      <td>N</td>\n",
       "      <td>FI</td>\n",
       "      <td>P</td>\n",
       "      <td>5</td>\n",
       "    </tr>\n",
       "    <tr>\n",
       "      <th>5</th>\n",
       "      <td>2018</td>\n",
       "      <td>Albania</td>\n",
       "      <td>Denmark</td>\n",
       "      <td>ALB</td>\n",
       "      <td>DNK</td>\n",
       "      <td>G</td>\n",
       "      <td>N</td>\n",
       "      <td>FI</td>\n",
       "      <td>P</td>\n",
       "      <td>78</td>\n",
       "    </tr>\n",
       "    <tr>\n",
       "      <th>6</th>\n",
       "      <td>2018</td>\n",
       "      <td>Albania</td>\n",
       "      <td>Finland</td>\n",
       "      <td>ALB</td>\n",
       "      <td>FIN</td>\n",
       "      <td>G</td>\n",
       "      <td>N</td>\n",
       "      <td>FI</td>\n",
       "      <td>P</td>\n",
       "      <td>36</td>\n",
       "    </tr>\n",
       "    <tr>\n",
       "      <th>7</th>\n",
       "      <td>2018</td>\n",
       "      <td>Albania</td>\n",
       "      <td>Finland</td>\n",
       "      <td>ALB</td>\n",
       "      <td>FIN</td>\n",
       "      <td>G</td>\n",
       "      <td>R</td>\n",
       "      <td>RA</td>\n",
       "      <td>P</td>\n",
       "      <td>5</td>\n",
       "    </tr>\n",
       "    <tr>\n",
       "      <th>8</th>\n",
       "      <td>2018</td>\n",
       "      <td>Albania</td>\n",
       "      <td>France</td>\n",
       "      <td>ALB</td>\n",
       "      <td>FRA</td>\n",
       "      <td>G</td>\n",
       "      <td>A</td>\n",
       "      <td>AR</td>\n",
       "      <td>P</td>\n",
       "      <td>4262</td>\n",
       "    </tr>\n",
       "    <tr>\n",
       "      <th>9</th>\n",
       "      <td>2018</td>\n",
       "      <td>Albania</td>\n",
       "      <td>France</td>\n",
       "      <td>ALB</td>\n",
       "      <td>FRA</td>\n",
       "      <td>G</td>\n",
       "      <td>N</td>\n",
       "      <td>FI</td>\n",
       "      <td>P</td>\n",
       "      <td>8311</td>\n",
       "    </tr>\n",
       "  </tbody>\n",
       "</table>\n",
       "</div>"
      ],
      "text/plain": [
       "   Year Country of origin Country of asylum Country of origin (ISO)  \\\n",
       "0  2018           Albania           Austria                     ALB   \n",
       "1  2018           Albania           Belgium                     ALB   \n",
       "2  2018           Albania           Belgium                     ALB   \n",
       "3  2018           Albania            Cyprus                     ALB   \n",
       "4  2018           Albania           Czechia                     ALB   \n",
       "5  2018           Albania           Denmark                     ALB   \n",
       "6  2018           Albania           Finland                     ALB   \n",
       "7  2018           Albania           Finland                     ALB   \n",
       "8  2018           Albania            France                     ALB   \n",
       "9  2018           Albania            France                     ALB   \n",
       "\n",
       "  Country of asylum (ISO) Authority Application type Stage of procedure  \\\n",
       "0                     AUT         G                N                 FA   \n",
       "1                     BEL         G                N                 FI   \n",
       "2                     BEL         G                R                 RA   \n",
       "3                     CYP         G                N                 FI   \n",
       "4                     CZE         G                N                 FI   \n",
       "5                     DNK         G                N                 FI   \n",
       "6                     FIN         G                N                 FI   \n",
       "7                     FIN         G                R                 RA   \n",
       "8                     FRA         G                A                 AR   \n",
       "9                     FRA         G                N                 FI   \n",
       "\n",
       "  Cases / Persons  applied  \n",
       "0               P       63  \n",
       "1               P      505  \n",
       "2               P      165  \n",
       "3               P        5  \n",
       "4               P        5  \n",
       "5               P       78  \n",
       "6               P       36  \n",
       "7               P        5  \n",
       "8               P     4262  \n",
       "9               P     8311  "
      ]
     },
     "execution_count": 11,
     "metadata": {},
     "output_type": "execute_result"
    }
   ],
   "source": [
    "df = df.drop_duplicates()\n",
    "df.head(10)"
   ]
  },
  {
   "cell_type": "code",
   "execution_count": 12,
   "id": "98ed1eed-6720-4c2e-83a2-9393d3a87217",
   "metadata": {},
   "outputs": [
    {
     "data": {
      "text/html": [
       "<div>\n",
       "<style scoped>\n",
       "    .dataframe tbody tr th:only-of-type {\n",
       "        vertical-align: middle;\n",
       "    }\n",
       "\n",
       "    .dataframe tbody tr th {\n",
       "        vertical-align: top;\n",
       "    }\n",
       "\n",
       "    .dataframe thead th {\n",
       "        text-align: right;\n",
       "    }\n",
       "</style>\n",
       "<table border=\"1\" class=\"dataframe\">\n",
       "  <thead>\n",
       "    <tr style=\"text-align: right;\">\n",
       "      <th></th>\n",
       "      <th>Year</th>\n",
       "      <th>Country of origin</th>\n",
       "      <th>Country of asylum</th>\n",
       "      <th>Country of origin (ISO)</th>\n",
       "      <th>Country of asylum (ISO)</th>\n",
       "      <th>Authority</th>\n",
       "      <th>Application type</th>\n",
       "      <th>Stage of procedure</th>\n",
       "      <th>Cases / Persons</th>\n",
       "      <th>applied</th>\n",
       "    </tr>\n",
       "  </thead>\n",
       "  <tbody>\n",
       "    <tr>\n",
       "      <th>3493</th>\n",
       "      <td>2023</td>\n",
       "      <td>Ukraine</td>\n",
       "      <td>Sweden</td>\n",
       "      <td>UKR</td>\n",
       "      <td>SWE</td>\n",
       "      <td>G</td>\n",
       "      <td>A</td>\n",
       "      <td>AR</td>\n",
       "      <td>P</td>\n",
       "      <td>7</td>\n",
       "    </tr>\n",
       "    <tr>\n",
       "      <th>3494</th>\n",
       "      <td>2023</td>\n",
       "      <td>Ukraine</td>\n",
       "      <td>Sweden</td>\n",
       "      <td>UKR</td>\n",
       "      <td>SWE</td>\n",
       "      <td>G</td>\n",
       "      <td>N</td>\n",
       "      <td>FI</td>\n",
       "      <td>P</td>\n",
       "      <td>232</td>\n",
       "    </tr>\n",
       "    <tr>\n",
       "      <th>3495</th>\n",
       "      <td>2023</td>\n",
       "      <td>Ukraine</td>\n",
       "      <td>Sweden</td>\n",
       "      <td>UKR</td>\n",
       "      <td>SWE</td>\n",
       "      <td>G</td>\n",
       "      <td>R</td>\n",
       "      <td>RA</td>\n",
       "      <td>P</td>\n",
       "      <td>40</td>\n",
       "    </tr>\n",
       "    <tr>\n",
       "      <th>3496</th>\n",
       "      <td>2023</td>\n",
       "      <td>Ukraine</td>\n",
       "      <td>Switzerland</td>\n",
       "      <td>UKR</td>\n",
       "      <td>CHE</td>\n",
       "      <td>G</td>\n",
       "      <td>N</td>\n",
       "      <td>FI</td>\n",
       "      <td>P</td>\n",
       "      <td>17</td>\n",
       "    </tr>\n",
       "    <tr>\n",
       "      <th>3497</th>\n",
       "      <td>2023</td>\n",
       "      <td>Ukraine</td>\n",
       "      <td>Türkiye</td>\n",
       "      <td>UKR</td>\n",
       "      <td>TUR</td>\n",
       "      <td>G</td>\n",
       "      <td>N</td>\n",
       "      <td>FI</td>\n",
       "      <td>P</td>\n",
       "      <td>520</td>\n",
       "    </tr>\n",
       "  </tbody>\n",
       "</table>\n",
       "</div>"
      ],
      "text/plain": [
       "      Year Country of origin Country of asylum Country of origin (ISO)  \\\n",
       "3493  2023           Ukraine            Sweden                     UKR   \n",
       "3494  2023           Ukraine            Sweden                     UKR   \n",
       "3495  2023           Ukraine            Sweden                     UKR   \n",
       "3496  2023           Ukraine       Switzerland                     UKR   \n",
       "3497  2023           Ukraine           Türkiye                     UKR   \n",
       "\n",
       "     Country of asylum (ISO) Authority Application type Stage of procedure  \\\n",
       "3493                     SWE         G                A                 AR   \n",
       "3494                     SWE         G                N                 FI   \n",
       "3495                     SWE         G                R                 RA   \n",
       "3496                     CHE         G                N                 FI   \n",
       "3497                     TUR         G                N                 FI   \n",
       "\n",
       "     Cases / Persons  applied  \n",
       "3493               P        7  \n",
       "3494               P      232  \n",
       "3495               P       40  \n",
       "3496               P       17  \n",
       "3497               P      520  "
      ]
     },
     "execution_count": 12,
     "metadata": {},
     "output_type": "execute_result"
    }
   ],
   "source": [
    "df.tail()"
   ]
  },
  {
   "cell_type": "code",
   "execution_count": 13,
   "id": "2a8b6123-9c2f-4a84-83e0-8ef4bdca7fe9",
   "metadata": {},
   "outputs": [],
   "source": [
    "df.rename(columns = {'Cases / Persons':'Application Numbers'}, inplace = True)"
   ]
  },
  {
   "cell_type": "code",
   "execution_count": 29,
   "id": "598efa19-fc19-4bb5-a3ab-3f2338a09419",
   "metadata": {},
   "outputs": [
    {
     "name": "stdout",
     "output_type": "stream",
     "text": [
      "<class 'pandas.core.frame.DataFrame'>\n",
      "RangeIndex: 3498 entries, 0 to 3497\n",
      "Data columns (total 10 columns):\n",
      " #   Column                   Non-Null Count  Dtype\n",
      "---  ------                   --------------  -----\n",
      " 0   Year                     3498 non-null   int64\n",
      " 1   Country of origin        3498 non-null   int32\n",
      " 2   Country of asylum        3498 non-null   int32\n",
      " 3   Country of origin (ISO)  3498 non-null   int32\n",
      " 4   Country of asylum (ISO)  3498 non-null   int32\n",
      " 5   Authority                3498 non-null   int32\n",
      " 6   Application type         3498 non-null   int32\n",
      " 7   Stage of procedure       3498 non-null   int32\n",
      " 8   Cases / Persons          3498 non-null   int32\n",
      " 9   applied                  3498 non-null   int64\n",
      "dtypes: int32(8), int64(2)\n",
      "memory usage: 164.1 KB\n"
     ]
    }
   ],
   "source": [
    "df.info()"
   ]
  },
  {
   "cell_type": "markdown",
   "id": "62807b1f-12d1-4d6e-9b25-43f7a265145c",
   "metadata": {},
   "source": [
    "# Dealing with missing data in dataset"
   ]
  },
  {
   "cell_type": "code",
   "execution_count": 14,
   "id": "e8bbf054-83b8-44e7-9033-c28185129198",
   "metadata": {},
   "outputs": [
    {
     "data": {
      "text/plain": [
       "Year                        0\n",
       "Country of origin           0\n",
       "Country of asylum           0\n",
       "Country of origin (ISO)     0\n",
       "Country of asylum (ISO)     0\n",
       "Authority                   0\n",
       "Application type            0\n",
       "Stage of procedure         65\n",
       "Application Numbers         0\n",
       "applied                     0\n",
       "dtype: int64"
      ]
     },
     "execution_count": 14,
     "metadata": {},
     "output_type": "execute_result"
    }
   ],
   "source": [
    "df.isnull().sum()"
   ]
  },
  {
   "cell_type": "code",
   "execution_count": 15,
   "id": "97e5f1f8-9ea4-4e76-8892-0cd2adfd0f1f",
   "metadata": {},
   "outputs": [],
   "source": [
    "# a list with all missing value formats\n",
    "missing_value_formats = [\"n.a.\",\"?\",\"NA\",\"n/a\",\"na\",\" \",\"--\",\"nan\",\"UnKnown\",\"Na\",\"unknown\"]\n",
    "df= pd.read_csv(\"asylum-applications.csv\", na_values = missing_value_formats)"
   ]
  },
  {
   "cell_type": "code",
   "execution_count": 16,
   "id": "02fbf760-43aa-4b6b-8466-ea808fbcef2e",
   "metadata": {},
   "outputs": [],
   "source": [
    "df = df.dropna(axis = 1, how ='all')"
   ]
  },
  {
   "cell_type": "code",
   "execution_count": 17,
   "id": "9ae9f2d9-e712-4555-a5e1-86e959b71ec8",
   "metadata": {},
   "outputs": [
    {
     "data": {
      "text/plain": [
       "Year                        0\n",
       "Country of origin           0\n",
       "Country of asylum           0\n",
       "Country of origin (ISO)     0\n",
       "Country of asylum (ISO)     0\n",
       "Authority                   0\n",
       "Application type            0\n",
       "Stage of procedure         65\n",
       "Cases / Persons             0\n",
       "applied                     0\n",
       "dtype: int64"
      ]
     },
     "execution_count": 17,
     "metadata": {},
     "output_type": "execute_result"
    }
   ],
   "source": [
    "df.isnull().sum()"
   ]
  },
  {
   "cell_type": "code",
   "execution_count": 18,
   "id": "4387e569-2253-405a-a9e2-976584720748",
   "metadata": {},
   "outputs": [
    {
     "name": "stdout",
     "output_type": "stream",
     "text": [
      "<class 'pandas.core.frame.DataFrame'>\n",
      "RangeIndex: 3498 entries, 0 to 3497\n",
      "Data columns (total 10 columns):\n",
      " #   Column                   Non-Null Count  Dtype \n",
      "---  ------                   --------------  ----- \n",
      " 0   Year                     3498 non-null   int64 \n",
      " 1   Country of origin        3498 non-null   object\n",
      " 2   Country of asylum        3498 non-null   object\n",
      " 3   Country of origin (ISO)  3498 non-null   object\n",
      " 4   Country of asylum (ISO)  3498 non-null   object\n",
      " 5   Authority                3498 non-null   object\n",
      " 6   Application type         3498 non-null   object\n",
      " 7   Stage of procedure       3433 non-null   object\n",
      " 8   Cases / Persons          3498 non-null   object\n",
      " 9   applied                  3498 non-null   int64 \n",
      "dtypes: int64(2), object(8)\n",
      "memory usage: 273.4+ KB\n"
     ]
    }
   ],
   "source": [
    "df.info()"
   ]
  },
  {
   "cell_type": "code",
   "execution_count": 19,
   "id": "4551c32c-d7b8-4491-aeb3-5b315d95d6d2",
   "metadata": {},
   "outputs": [],
   "source": [
    "df = df[df['Stage of procedure'] != ' ']"
   ]
  },
  {
   "cell_type": "code",
   "execution_count": 20,
   "id": "97eb23f2-7c67-4fe1-aa41-5b9ce487a51f",
   "metadata": {},
   "outputs": [],
   "source": [
    "df = df[df['Stage of procedure'] != 'nan']"
   ]
  },
  {
   "cell_type": "code",
   "execution_count": 21,
   "id": "04fee72f-02de-470d-9301-ab4c64101daf",
   "metadata": {},
   "outputs": [
    {
     "data": {
      "text/plain": [
       "Year                        0\n",
       "Country of origin           0\n",
       "Country of asylum           0\n",
       "Country of origin (ISO)     0\n",
       "Country of asylum (ISO)     0\n",
       "Authority                   0\n",
       "Application type            0\n",
       "Stage of procedure         65\n",
       "Cases / Persons             0\n",
       "applied                     0\n",
       "dtype: int64"
      ]
     },
     "execution_count": 21,
     "metadata": {},
     "output_type": "execute_result"
    }
   ],
   "source": [
    "df.isnull().sum()"
   ]
  },
  {
   "cell_type": "markdown",
   "id": "b6cfab7b-eb1b-45fa-83b2-34b4bde3b9c4",
   "metadata": {},
   "source": [
    "# Some visuals of initial dataset"
   ]
  },
  {
   "cell_type": "code",
   "execution_count": 22,
   "id": "e51a0375-7d32-445c-8582-82e0dd1cac40",
   "metadata": {},
   "outputs": [
    {
     "data": {
      "text/plain": [
       "<seaborn.axisgrid.FacetGrid at 0x28c145411d0>"
      ]
     },
     "execution_count": 22,
     "metadata": {},
     "output_type": "execute_result"
    },
    {
     "data": {
      "image/png": "[encoded data removed]",
      "text/plain": [
       "<Figure size 500x500 with 1 Axes>"
      ]
     },
     "metadata": {},
     "output_type": "display_data"
    }
   ],
   "source": [
    "sns.displot(df[\"Stage of procedure\"])"
   ]
  },
  {
   "cell_type": "markdown",
   "id": "9a5326bb-709e-4511-94cc-dc356b72cd9f",
   "metadata": {},
   "source": [
    "# Data Preperation"
   ]
  },
  {
   "cell_type": "code",
   "execution_count": 23,
   "id": "00369805-6e5d-4f4a-a5d1-6e6f48b93086",
   "metadata": {},
   "outputs": [
    {
     "data": {
      "text/plain": [
       "array(['FA', 'FI', 'RA', 'AR', 'JR', nan, 'TA'], dtype=object)"
      ]
     },
     "execution_count": 23,
     "metadata": {},
     "output_type": "execute_result"
    }
   ],
   "source": [
    "df[\"Stage of procedure\"].unique()"
   ]
  },
  {
   "cell_type": "code",
   "execution_count": 24,
   "id": "55383bf3-a5e2-4c5d-89e8-2ba645762076",
   "metadata": {},
   "outputs": [],
   "source": [
    "from sklearn import preprocessing \n",
    "le = preprocessing.LabelEncoder()\n",
    "label_encoder = preprocessing.LabelEncoder()"
   ]
  },
  {
   "cell_type": "code",
   "execution_count": 25,
   "id": "c65b1f78-73dd-402e-bfe7-cc2a988f985f",
   "metadata": {},
   "outputs": [],
   "source": [
    "df = df.apply(le.fit_transform)"
   ]
  },
  {
   "cell_type": "markdown",
   "id": "a71ad145-dc1a-4679-8aff-35ea856e2fdd",
   "metadata": {},
   "source": [
    "# Modelling "
   ]
  },
  {
   "cell_type": "code",
   "execution_count": 26,
   "id": "ef7a9d34-7e46-4eaa-8444-e85f977ce8cb",
   "metadata": {},
   "outputs": [],
   "source": [
    "# Importing train-test-split \n",
    "from sklearn.model_selection import train_test_split"
   ]
  },
  {
   "cell_type": "code",
   "execution_count": 27,
   "id": "69208952-3721-482d-9f35-1c66883f17df",
   "metadata": {},
   "outputs": [],
   "source": [
    "# Putting feature variable to X\n",
    "X = df.drop('Cases / Persons',axis=1)\n",
    "\n",
    "# Putting response variable to y\n",
    "y = df['Cases / Persons']"
   ]
  },
  {
   "cell_type": "code",
   "execution_count": 28,
   "id": "16c1b310-1939-4dc1-a672-62add1aaaf1d",
   "metadata": {},
   "outputs": [
    {
     "data": {
      "text/html": [
       "<div>\n",
       "<style scoped>\n",
       "    .dataframe tbody tr th:only-of-type {\n",
       "        vertical-align: middle;\n",
       "    }\n",
       "\n",
       "    .dataframe tbody tr th {\n",
       "        vertical-align: top;\n",
       "    }\n",
       "\n",
       "    .dataframe thead th {\n",
       "        text-align: right;\n",
       "    }\n",
       "</style>\n",
       "<table border=\"1\" class=\"dataframe\">\n",
       "  <thead>\n",
       "    <tr style=\"text-align: right;\">\n",
       "      <th></th>\n",
       "      <th>Year</th>\n",
       "      <th>Country of origin</th>\n",
       "      <th>Country of asylum</th>\n",
       "      <th>Country of origin (ISO)</th>\n",
       "      <th>Country of asylum (ISO)</th>\n",
       "      <th>Authority</th>\n",
       "      <th>Application type</th>\n",
       "      <th>Stage of procedure</th>\n",
       "      <th>applied</th>\n",
       "    </tr>\n",
       "  </thead>\n",
       "  <tbody>\n",
       "    <tr>\n",
       "      <th>203</th>\n",
       "      <td>0</td>\n",
       "      <td>13</td>\n",
       "      <td>11</td>\n",
       "      <td>15</td>\n",
       "      <td>12</td>\n",
       "      <td>0</td>\n",
       "      <td>0</td>\n",
       "      <td>0</td>\n",
       "      <td>49</td>\n",
       "    </tr>\n",
       "    <tr>\n",
       "      <th>1593</th>\n",
       "      <td>2</td>\n",
       "      <td>30</td>\n",
       "      <td>40</td>\n",
       "      <td>32</td>\n",
       "      <td>42</td>\n",
       "      <td>0</td>\n",
       "      <td>0</td>\n",
       "      <td>0</td>\n",
       "      <td>164</td>\n",
       "    </tr>\n",
       "    <tr>\n",
       "      <th>912</th>\n",
       "      <td>1</td>\n",
       "      <td>27</td>\n",
       "      <td>14</td>\n",
       "      <td>23</td>\n",
       "      <td>16</td>\n",
       "      <td>0</td>\n",
       "      <td>4</td>\n",
       "      <td>4</td>\n",
       "      <td>16</td>\n",
       "    </tr>\n",
       "    <tr>\n",
       "      <th>113</th>\n",
       "      <td>0</td>\n",
       "      <td>3</td>\n",
       "      <td>32</td>\n",
       "      <td>3</td>\n",
       "      <td>36</td>\n",
       "      <td>0</td>\n",
       "      <td>2</td>\n",
       "      <td>2</td>\n",
       "      <td>0</td>\n",
       "    </tr>\n",
       "    <tr>\n",
       "      <th>2018</th>\n",
       "      <td>3</td>\n",
       "      <td>27</td>\n",
       "      <td>17</td>\n",
       "      <td>23</td>\n",
       "      <td>19</td>\n",
       "      <td>0</td>\n",
       "      <td>0</td>\n",
       "      <td>0</td>\n",
       "      <td>7</td>\n",
       "    </tr>\n",
       "  </tbody>\n",
       "</table>\n",
       "</div>"
      ],
      "text/plain": [
       "      Year  Country of origin  Country of asylum  Country of origin (ISO)  \\\n",
       "203      0                 13                 11                       15   \n",
       "1593     2                 30                 40                       32   \n",
       "912      1                 27                 14                       23   \n",
       "113      0                  3                 32                        3   \n",
       "2018     3                 27                 17                       23   \n",
       "\n",
       "      Country of asylum (ISO)  Authority  Application type  \\\n",
       "203                        12          0                 0   \n",
       "1593                       42          0                 0   \n",
       "912                        16          0                 4   \n",
       "113                        36          0                 2   \n",
       "2018                       19          0                 0   \n",
       "\n",
       "      Stage of procedure  applied  \n",
       "203                    0       49  \n",
       "1593                   0      164  \n",
       "912                    4       16  \n",
       "113                    2        0  \n",
       "2018                   0        7  "
      ]
     },
     "execution_count": 28,
     "metadata": {},
     "output_type": "execute_result"
    }
   ],
   "source": [
    "# Splitting the data into train and test\n",
    "X_train, X_test, y_train, y_test = train_test_split(X, y, \n",
    "                                                    test_size=0.30, \n",
    "                                                    random_state = 99)\n",
    "X_train.head()"
   ]
  },
  {
   "cell_type": "markdown",
   "id": "e859cbaa-1cdd-4b62-bf40-9fd64e0406ca",
   "metadata": {},
   "source": [
    "# Evaluation & Deployment "
   ]
  },
  {
   "cell_type": "code",
   "execution_count": null,
   "id": "4318eb64-a399-4b67-947b-cde603216fce",
   "metadata": {},
   "outputs": [],
   "source": []
  },
  {
   "cell_type": "code",
   "execution_count": null,
   "id": "04e45cb7-3358-4b8d-a4ed-066d6ab8d40f",
   "metadata": {},
   "outputs": [],
   "source": []
  },
  {
   "cell_type": "code",
   "execution_count": null,
   "id": "5958ac86-7dcf-4ffe-90c4-1c35c037db0e",
   "metadata": {},
   "outputs": [],
   "source": []
  }
 ],
 "metadata": {
  "kernelspec": {
   "display_name": "Python 3 (ipykernel)",
   "language": "python",
   "name": "python3"
  },
  "language_info": {
   "codemirror_mode": {
    "name": "ipython",
    "version": 3
   },
   "file_extension": ".py",
   "mimetype": "text/x-python",
   "name": "python",
   "nbconvert_exporter": "python",
   "pygments_lexer": "ipython3",
   "version": "3.11.7"
  }
 },
 "nbformat": 4,
 "nbformat_minor": 5
}
